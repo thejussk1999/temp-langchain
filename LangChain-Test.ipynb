{
 "cells": [
  {
   "cell_type": "markdown",
   "id": "3f7928ce",
   "metadata": {},
   "source": [
    "https://python.langchain.com/docs/tutorials/rag/#loading-documents "
   ]
  },
  {
   "cell_type": "code",
   "execution_count": 1,
   "id": "eb54879e",
   "metadata": {},
   "outputs": [
    {
     "name": "stdout",
     "output_type": "stream",
     "text": [
      "Collecting langchainNote: you may need to restart the kernel to use updated packages.\n",
      "\n",
      "  Obtaining dependency information for langchain from https://files.pythonhosted.org/packages/f6/d5/4861816a95b2f6993f1360cfb605aacb015506ee2090433a71de9cca8477/langchain-0.3.27-py3-none-any.whl.metadata\n",
      "  Downloading langchain-0.3.27-py3-none-any.whl.metadata (7.8 kB)\n",
      "Collecting langchain-core<1.0.0,>=0.3.72 (from langchain)\n",
      "  Obtaining dependency information for langchain-core<1.0.0,>=0.3.72 from https://files.pythonhosted.org/packages/fb/42/0d0221cce6f168f644d7d96cb6c87c4e42fc55d2941da7a36e970e3ab8ab/langchain_core-0.3.75-py3-none-any.whl.metadata\n",
      "  Downloading langchain_core-0.3.75-py3-none-any.whl.metadata (5.7 kB)\n",
      "Collecting langchain-text-splitters<1.0.0,>=0.3.9 (from langchain)\n",
      "  Obtaining dependency information for langchain-text-splitters<1.0.0,>=0.3.9 from https://files.pythonhosted.org/packages/4c/dc/d64c9990f6aeb209e8d47b34ebaa2b787f3e4c10c99b8a5568a10beda449/langchain_text_splitters-0.3.10-py3-none-any.whl.metadata\n",
      "  Downloading langchain_text_splitters-0.3.10-py3-none-any.whl.metadata (1.9 kB)\n",
      "Collecting langsmith>=0.1.17 (from langchain)\n",
      "  Obtaining dependency information for langsmith>=0.1.17 from https://files.pythonhosted.org/packages/7d/79/5ccad558563861f7ae6a77aeba259578c35192e9c109b0142fcf490b3c50/langsmith-0.4.21-py3-none-any.whl.metadata\n",
      "  Downloading langsmith-0.4.21-py3-none-any.whl.metadata (14 kB)\n",
      "Requirement already satisfied: pydantic<3.0.0,>=2.7.4 in c:\\users\\theju\\anaconda3\\envs\\mlp\\lib\\site-packages (from langchain) (2.11.7)\n",
      "Collecting SQLAlchemy<3,>=1.4 (from langchain)\n",
      "  Obtaining dependency information for SQLAlchemy<3,>=1.4 from https://files.pythonhosted.org/packages/ee/13/744a32ebe3b4a7a9c7ea4e57babae7aa22070d47acf330d8e5a1359607f1/sqlalchemy-2.0.43-cp311-cp311-win_amd64.whl.metadata\n",
      "  Downloading sqlalchemy-2.0.43-cp311-cp311-win_amd64.whl.metadata (9.8 kB)\n",
      "Requirement already satisfied: requests<3,>=2 in c:\\users\\theju\\anaconda3\\envs\\mlp\\lib\\site-packages (from langchain) (2.31.0)\n",
      "Requirement already satisfied: PyYAML>=5.3 in c:\\users\\theju\\anaconda3\\envs\\mlp\\lib\\site-packages (from langchain) (6.0)\n",
      "Requirement already satisfied: tenacity!=8.4.0,<10.0.0,>=8.1.0 in c:\\users\\theju\\anaconda3\\envs\\mlp\\lib\\site-packages (from langchain-core<1.0.0,>=0.3.72->langchain) (9.1.2)\n",
      "Collecting jsonpatch<2.0,>=1.33 (from langchain-core<1.0.0,>=0.3.72->langchain)\n",
      "  Obtaining dependency information for jsonpatch<2.0,>=1.33 from https://files.pythonhosted.org/packages/73/07/02e16ed01e04a374e644b575638ec7987ae846d25ad97bcc9945a3ee4b0e/jsonpatch-1.33-py2.py3-none-any.whl.metadata\n",
      "  Downloading jsonpatch-1.33-py2.py3-none-any.whl.metadata (3.0 kB)\n",
      "Requirement already satisfied: typing-extensions>=4.7 in c:\\users\\theju\\anaconda3\\envs\\mlp\\lib\\site-packages (from langchain-core<1.0.0,>=0.3.72->langchain) (4.14.1)\n",
      "Collecting packaging>=23.2 (from langchain-core<1.0.0,>=0.3.72->langchain)\n",
      "  Obtaining dependency information for packaging>=23.2 from https://files.pythonhosted.org/packages/20/12/38679034af332785aac8774540895e234f4d07f7545804097de4b666afd8/packaging-25.0-py3-none-any.whl.metadata\n",
      "  Downloading packaging-25.0-py3-none-any.whl.metadata (3.3 kB)\n",
      "Collecting pip>=25.2 (from langchain-text-splitters<1.0.0,>=0.3.9->langchain)\n",
      "  Obtaining dependency information for pip>=25.2 from https://files.pythonhosted.org/packages/b7/3f/945ef7ab14dc4f9d7f40288d2df998d1837ee0888ec3659c813487572faa/pip-25.2-py3-none-any.whl.metadata\n",
      "  Downloading pip-25.2-py3-none-any.whl.metadata (4.7 kB)\n",
      "Requirement already satisfied: httpx<1,>=0.23.0 in c:\\users\\theju\\anaconda3\\envs\\mlp\\lib\\site-packages (from langsmith>=0.1.17->langchain) (0.28.1)\n",
      "Collecting orjson>=3.9.14 (from langsmith>=0.1.17->langchain)\n",
      "  Obtaining dependency information for orjson>=3.9.14 from https://files.pythonhosted.org/packages/09/60/db16c6f7a41dd8ac9fb651f66701ff2aeb499ad9ebc15853a26c7c152448/orjson-3.11.3-cp311-cp311-win_amd64.whl.metadata\n",
      "  Downloading orjson-3.11.3-cp311-cp311-win_amd64.whl.metadata (43 kB)\n",
      "     ---------------------------------------- 0.0/43.0 kB ? eta -:--:--\n",
      "     ---------------------------------------- 43.0/43.0 kB 2.2 MB/s eta 0:00:00\n",
      "Collecting requests-toolbelt>=1.0.0 (from langsmith>=0.1.17->langchain)\n",
      "  Obtaining dependency information for requests-toolbelt>=1.0.0 from https://files.pythonhosted.org/packages/3f/51/d4db610ef29373b879047326cbf6fa98b6c1969d6f6dc423279de2b1be2c/requests_toolbelt-1.0.0-py2.py3-none-any.whl.metadata\n",
      "  Downloading requests_toolbelt-1.0.0-py2.py3-none-any.whl.metadata (14 kB)\n",
      "Collecting zstandard>=0.23.0 (from langsmith>=0.1.17->langchain)\n",
      "  Obtaining dependency information for zstandard>=0.23.0 from https://files.pythonhosted.org/packages/e2/8e/2c8e5c681ae4937c007938f954a060fa7c74f36273b289cabdb5ef0e9a7e/zstandard-0.24.0-cp311-cp311-win_amd64.whl.metadata\n",
      "  Downloading zstandard-0.24.0-cp311-cp311-win_amd64.whl.metadata (3.2 kB)\n",
      "Requirement already satisfied: annotated-types>=0.6.0 in c:\\users\\theju\\anaconda3\\envs\\mlp\\lib\\site-packages (from pydantic<3.0.0,>=2.7.4->langchain) (0.7.0)\n",
      "Requirement already satisfied: pydantic-core==2.33.2 in c:\\users\\theju\\anaconda3\\envs\\mlp\\lib\\site-packages (from pydantic<3.0.0,>=2.7.4->langchain) (2.33.2)\n",
      "Requirement already satisfied: typing-inspection>=0.4.0 in c:\\users\\theju\\anaconda3\\envs\\mlp\\lib\\site-packages (from pydantic<3.0.0,>=2.7.4->langchain) (0.4.1)\n",
      "Requirement already satisfied: charset-normalizer<4,>=2 in c:\\users\\theju\\anaconda3\\envs\\mlp\\lib\\site-packages (from requests<3,>=2->langchain) (2.0.4)\n",
      "Requirement already satisfied: idna<4,>=2.5 in c:\\users\\theju\\anaconda3\\envs\\mlp\\lib\\site-packages (from requests<3,>=2->langchain) (3.4)\n",
      "Requirement already satisfied: urllib3<3,>=1.21.1 in c:\\users\\theju\\anaconda3\\envs\\mlp\\lib\\site-packages (from requests<3,>=2->langchain) (2.5.0)\n",
      "Requirement already satisfied: certifi>=2017.4.17 in c:\\users\\theju\\anaconda3\\envs\\mlp\\lib\\site-packages (from requests<3,>=2->langchain) (2023.7.22)\n",
      "Collecting greenlet>=1 (from SQLAlchemy<3,>=1.4->langchain)\n",
      "  Obtaining dependency information for greenlet>=1 from https://files.pythonhosted.org/packages/d8/0f/30aef242fcab550b0b3520b8e3561156857c94288f0332a79928c31a52cf/greenlet-3.2.4-cp311-cp311-win_amd64.whl.metadata\n",
      "  Downloading greenlet-3.2.4-cp311-cp311-win_amd64.whl.metadata (4.2 kB)\n",
      "Requirement already satisfied: anyio in c:\\users\\theju\\anaconda3\\envs\\mlp\\lib\\site-packages (from httpx<1,>=0.23.0->langsmith>=0.1.17->langchain) (4.10.0)\n",
      "Requirement already satisfied: httpcore==1.* in c:\\users\\theju\\anaconda3\\envs\\mlp\\lib\\site-packages (from httpx<1,>=0.23.0->langsmith>=0.1.17->langchain) (1.0.5)\n",
      "Requirement already satisfied: h11<0.15,>=0.13 in c:\\users\\theju\\anaconda3\\envs\\mlp\\lib\\site-packages (from httpcore==1.*->httpx<1,>=0.23.0->langsmith>=0.1.17->langchain) (0.14.0)\n",
      "Collecting jsonpointer>=1.9 (from jsonpatch<2.0,>=1.33->langchain-core<1.0.0,>=0.3.72->langchain)\n",
      "  Obtaining dependency information for jsonpointer>=1.9 from https://files.pythonhosted.org/packages/71/92/5e77f98553e9e75130c78900d000368476aed74276eb8ae8796f65f00918/jsonpointer-3.0.0-py2.py3-none-any.whl.metadata\n",
      "  Downloading jsonpointer-3.0.0-py2.py3-none-any.whl.metadata (2.3 kB)\n",
      "Requirement already satisfied: sniffio>=1.1 in c:\\users\\theju\\anaconda3\\envs\\mlp\\lib\\site-packages (from anyio->httpx<1,>=0.23.0->langsmith>=0.1.17->langchain) (1.2.0)\n",
      "Downloading langchain-0.3.27-py3-none-any.whl (1.0 MB)\n",
      "   ---------------------------------------- 0.0/1.0 MB ? eta -:--:--\n",
      "   ---------------------------------- ----- 0.9/1.0 MB 18.5 MB/s eta 0:00:01\n",
      "   ---------------------------------------- 1.0/1.0 MB 16.3 MB/s eta 0:00:00\n",
      "Downloading langchain_core-0.3.75-py3-none-any.whl (443 kB)\n",
      "   ---------------------------------------- 0.0/444.0 kB ? eta -:--:--\n",
      "   --------------------------------------- 444.0/444.0 kB 27.1 MB/s eta 0:00:00\n",
      "Downloading langchain_text_splitters-0.3.10-py3-none-any.whl (34 kB)\n",
      "Downloading langsmith-0.4.21-py3-none-any.whl (378 kB)\n",
      "   ---------------------------------------- 0.0/378.5 kB ? eta -:--:--\n",
      "   ---------------------------------------- 378.5/378.5 kB ? eta 0:00:00\n",
      "Downloading sqlalchemy-2.0.43-cp311-cp311-win_amd64.whl (2.1 MB)\n",
      "   ---------------------------------------- 0.0/2.1 MB ? eta -:--:--\n",
      "   ---------------------------------------- 2.1/2.1 MB 68.3 MB/s eta 0:00:00\n",
      "Downloading greenlet-3.2.4-cp311-cp311-win_amd64.whl (299 kB)\n",
      "   ---------------------------------------- 0.0/299.1 kB ? eta -:--:--\n",
      "   --------------------------------------- 299.1/299.1 kB 19.3 MB/s eta 0:00:00\n",
      "Downloading jsonpatch-1.33-py2.py3-none-any.whl (12 kB)\n",
      "Downloading orjson-3.11.3-cp311-cp311-win_amd64.whl (131 kB)\n",
      "   ---------------------------------------- 0.0/131.4 kB ? eta -:--:--\n",
      "   ---------------------------------------- 131.4/131.4 kB ? eta 0:00:00\n",
      "Downloading packaging-25.0-py3-none-any.whl (66 kB)\n",
      "   ---------------------------------------- 0.0/66.5 kB ? eta -:--:--\n",
      "   ---------------------------------------- 66.5/66.5 kB 3.7 MB/s eta 0:00:00\n",
      "Downloading pip-25.2-py3-none-any.whl (1.8 MB)\n",
      "   ---------------------------------------- 0.0/1.8 MB ? eta -:--:--\n",
      "   ---------------------------------------- 1.8/1.8 MB 56.2 MB/s eta 0:00:00\n",
      "Downloading requests_toolbelt-1.0.0-py2.py3-none-any.whl (54 kB)\n",
      "   ---------------------------------------- 0.0/54.5 kB ? eta -:--:--\n",
      "   ---------------------------------------- 54.5/54.5 kB 2.9 MB/s eta 0:00:00\n",
      "Downloading zstandard-0.24.0-cp311-cp311-win_amd64.whl (505 kB)\n",
      "   ---------------------------------------- 0.0/505.1 kB ? eta -:--:--\n",
      "   --------------------------------------- 505.1/505.1 kB 30.9 MB/s eta 0:00:00\n",
      "Downloading jsonpointer-3.0.0-py2.py3-none-any.whl (7.6 kB)\n",
      "Installing collected packages: zstandard, pip, packaging, orjson, jsonpointer, greenlet, SQLAlchemy, requests-toolbelt, jsonpatch, langsmith, langchain-core, langchain-text-splitters, langchain\n",
      "  Attempting uninstall: pip\n",
      "    Found existing installation: pip 23.2.1\n",
      "    Uninstalling pip-23.2.1:\n",
      "      Successfully uninstalled pip-23.2.1\n",
      "  Attempting uninstall: packaging\n",
      "    Found existing installation: packaging 23.1\n",
      "    Uninstalling packaging-23.1:\n",
      "      Successfully uninstalled packaging-23.1\n",
      "Successfully installed SQLAlchemy-2.0.43 greenlet-3.2.4 jsonpatch-1.33 jsonpointer-3.0.0 langchain-0.3.27 langchain-core-0.3.75 langchain-text-splitters-0.3.10 langsmith-0.4.21 orjson-3.11.3 packaging-25.0 pip-25.2 requests-toolbelt-1.0.0 zstandard-0.24.0\n"
     ]
    },
    {
     "name": "stderr",
     "output_type": "stream",
     "text": [
      "ERROR: pip's dependency resolver does not currently take into account all the packages that are installed. This behaviour is the source of the following dependency conflicts.\n",
      "jupyter-server 1.23.4 requires anyio<4,>=3.1.0, but you have anyio 4.10.0 which is incompatible.\n"
     ]
    }
   ],
   "source": [
    "%pip install langchain"
   ]
  },
  {
   "cell_type": "code",
   "execution_count": 3,
   "id": "fcb20c83",
   "metadata": {},
   "outputs": [
    {
     "name": "stdout",
     "output_type": "stream",
     "text": [
      "Note: you may need to restart the kernel to use updated packages.\n"
     ]
    }
   ],
   "source": [
    "%pip install langchain-text-splitters langchain-community langgraph -q"
   ]
  },
  {
   "cell_type": "code",
   "execution_count": 8,
   "id": "39d9159a",
   "metadata": {},
   "outputs": [
    {
     "name": "stdout",
     "output_type": "stream",
     "text": [
      "Collecting pypdf\n",
      "  Downloading pypdf-6.0.0-py3-none-any.whl.metadata (7.1 kB)\n",
      "Downloading pypdf-6.0.0-py3-none-any.whl (310 kB)\n",
      "Installing collected packages: pypdf\n",
      "Successfully installed pypdf-6.0.0\n",
      "Note: you may need to restart the kernel to use updated packages.\n"
     ]
    }
   ],
   "source": [
    "%pip install pypdf"
   ]
  },
  {
   "cell_type": "code",
   "execution_count": 21,
   "id": "56463211",
   "metadata": {},
   "outputs": [
    {
     "name": "stdout",
     "output_type": "stream",
     "text": [
      "Note: you may need to restart the kernel to use updated packages.\n"
     ]
    }
   ],
   "source": [
    "%pip install -qU langchain-openai"
   ]
  },
  {
   "cell_type": "code",
   "execution_count": 3,
   "id": "67ef62e7",
   "metadata": {},
   "outputs": [
    {
     "name": "stdout",
     "output_type": "stream",
     "text": [
      "Collecting faiss-cpu\n",
      "  Downloading faiss_cpu-1.12.0-cp311-cp311-win_amd64.whl.metadata (5.2 kB)\n",
      "Requirement already satisfied: numpy<3.0,>=1.25.0 in c:\\users\\theju\\anaconda3\\envs\\mlp\\lib\\site-packages (from faiss-cpu) (2.3.2)\n",
      "Requirement already satisfied: packaging in c:\\users\\theju\\anaconda3\\envs\\mlp\\lib\\site-packages (from faiss-cpu) (25.0)\n",
      "Downloading faiss_cpu-1.12.0-cp311-cp311-win_amd64.whl (18.2 MB)\n",
      "   ---------------------------------------- 0.0/18.2 MB ? eta -:--:--\n",
      "   ----------------------- ---------------- 10.7/18.2 MB 67.2 MB/s eta 0:00:01\n",
      "   ---------------------------------------- 18.2/18.2 MB 57.4 MB/s  0:00:00\n",
      "Installing collected packages: faiss-cpu\n",
      "Successfully installed faiss-cpu-1.12.0\n",
      "Note: you may need to restart the kernel to use updated packages.\n"
     ]
    }
   ],
   "source": [
    "%pip install faiss-cpu"
   ]
  },
  {
   "cell_type": "code",
   "execution_count": 59,
   "id": "4a5e1e57",
   "metadata": {},
   "outputs": [],
   "source": [
    "from langchain import hub\n",
    "from langchain_community.document_loaders import DirectoryLoader\n",
    "from langchain.document_loaders import TextLoader, PyPDFLoader\n",
    "from langchain_text_splitters import RecursiveCharacterTextSplitter\n",
    "from langchain_community.vectorstores import FAISS\n",
    "from langchain_community.docstore.in_memory import InMemoryDocstore\n",
    "from langchain_core.vectorstores import InMemoryVectorStore\n",
    "from typing_extensions import List,TypedDict\n",
    "from langchain_core.documents import Document"
   ]
  },
  {
   "cell_type": "code",
   "execution_count": 3,
   "id": "5e0838f7",
   "metadata": {},
   "outputs": [],
   "source": [
    "import os"
   ]
  },
  {
   "cell_type": "code",
   "execution_count": 1,
   "id": "259ae6b5",
   "metadata": {},
   "outputs": [],
   "source": [
    "import faiss"
   ]
  },
  {
   "cell_type": "code",
   "execution_count": null,
   "id": "2fc71b45",
   "metadata": {},
   "outputs": [],
   "source": [
    "from dotenv import load_dotenv\n",
    "load_dotenv()"
   ]
  },
  {
   "cell_type": "code",
   "execution_count": 4,
   "id": "4008cffb",
   "metadata": {},
   "outputs": [],
   "source": [
    "from langchain_openai import OpenAIEmbeddings\n",
    "embeddings = OpenAIEmbeddings(model = 'text-embedding-3-large')"
   ]
  },
  {
   "cell_type": "code",
   "execution_count": 5,
   "id": "0905b4ae",
   "metadata": {},
   "outputs": [],
   "source": [
    "embedding_dim = len(embeddings.embed_query('Hello HSBC'))\n",
    "index = faiss.IndexFlatL2(embedding_dim)"
   ]
  },
  {
   "cell_type": "code",
   "execution_count": 60,
   "id": "edb60a2c",
   "metadata": {},
   "outputs": [],
   "source": [
    "vector_store = InMemoryVectorStore(embeddings)"
   ]
  },
  {
   "cell_type": "markdown",
   "id": "15c66e5f",
   "metadata": {},
   "source": [
    "# Loading the data"
   ]
  },
  {
   "cell_type": "code",
   "execution_count": 61,
   "id": "47ca343a",
   "metadata": {},
   "outputs": [
    {
     "data": {
      "text/plain": [
       "17"
      ]
     },
     "execution_count": 61,
     "metadata": {},
     "output_type": "execute_result"
    }
   ],
   "source": [
    "loader = DirectoryLoader(\"docs/\", glob=\"*.pdf\", loader_cls = PyPDFLoader)\n",
    "docs = loader.load()\n",
    "len(docs)"
   ]
  },
  {
   "cell_type": "code",
   "execution_count": 62,
   "id": "f2c765bc",
   "metadata": {},
   "outputs": [
    {
     "data": {
      "text/plain": [
       "64"
      ]
     },
     "execution_count": 62,
     "metadata": {},
     "output_type": "execute_result"
    }
   ],
   "source": [
    "text_splitter = RecursiveCharacterTextSplitter(\n",
    "    chunk_size=1000,  # chunk size (characters)\n",
    "    chunk_overlap=200,  # chunk overlap (characters)\n",
    "    add_start_index=True,  # track index in original document\n",
    ")\n",
    "all_splits = text_splitter.split_documents(docs)\n",
    "len(all_splits)"
   ]
  },
  {
   "cell_type": "code",
   "execution_count": 74,
   "id": "7d494221",
   "metadata": {},
   "outputs": [
    {
     "data": {
      "text/plain": [
       "[Document(metadata={'producer': 'macOS Versione 12.1 (Build 21C52) Quartz PDFContext, AppendMode 1.1', 'creator': 'PyPDF', 'creationdate': \"D:20210316191726Z00'00'\", 'author': 'kpoll', 'moddate': \"D:20220515113647Z00'00'\", 'title': 'Microsoft Word - PURE Fraud and Cyber Defense Coverage Endorsement', 'source': 'docs\\\\form_1.pdf', 'total_pages': 17, 'page': 0, 'page_label': '1', 'start_index': 0}, page_content='Fraud and Cyber Defense Coverage \\nThis endorsement changes the policy. Please read it carefully. \\n \\nPHVH-END-GEN-029 (03/2021)  Page 1  \\n \\n \\nThis endorsement amends your High Value Homeowners Policy (“the Policy”) to add Fraud \\nand Cyber Defense Coverage, subject to its own terms, definitions, exclusions, limits and \\nconditions, as set forth herein. The Limits of Insurance shown in the Fraud and Cyber Defense \\nCoverage Schedule (“the Schedule”) are separate from, and in addition to, the coverage limit \\nunder the Policy. All amounts paid under this endorsement will reduce and may completely \\nexhaust the Limits of Insurance shown in the Schedule.  \\nSCHEDULE \\n1. Coverage Part A. - First Party Loss Limits of Insurance (event discovered and reported coverage) \\n Data Recovery and System Restoration $« » \\n Cyber Extortion $« » \\n Fraud and Cyber Crime $« » \\n Breach Notification Costs $« » \\n2. Coverage Part A. Aggregate Limit $« » \\n3. Coverage Part A. Deductible $« » each Insured Event'),\n",
       " Document(metadata={'producer': 'macOS Versione 12.1 (Build 21C52) Quartz PDFContext, AppendMode 1.1', 'creator': 'PyPDF', 'creationdate': \"D:20210316191726Z00'00'\", 'author': 'kpoll', 'moddate': \"D:20220515113647Z00'00'\", 'title': 'Microsoft Word - PURE Fraud and Cyber Defense Coverage Endorsement', 'source': 'docs\\\\form_1.pdf', 'total_pages': 17, 'page': 0, 'page_label': '1', 'start_index': 811}, page_content='Cyber Extortion $« » \\n Fraud and Cyber Crime $« » \\n Breach Notification Costs $« » \\n2. Coverage Part A. Aggregate Limit $« » \\n3. Coverage Part A. Deductible $« » each Insured Event \\n4. Coverage Part B. – Privacy and Security Claims \\nLimit of Insurance (claims-made and reported \\ncoverage) \\n$« » \\n5. Coverage Part B. Deductible $« » each Privacy and Security Claim \\n6. Combined Aggregate Limit of Insurance $« » \\n7. Endorsement Effective Date xx/xx/xxxx \\n \\nSECTION I - DEFINITIONS \\nSolely with respect to the coverage provided by this endorsement, the terms that appear in bold \\nare defined as follows. If a term is defined below and in SECTION I – DEFINITIONS of the \\nPolicy, the definitions below will apply only to this endorsement and will not otherwise amend, \\ndelete or alter SECTION I – DEFINITIONS of the Policy. \\n1. Attorney means any person who is duly licensed to practice law at the time and place the \\nlegal services are rendered. Attorney does not include any insured.'),\n",
       " Document(metadata={'producer': 'macOS Versione 12.1 (Build 21C52) Quartz PDFContext, AppendMode 1.1', 'creator': 'PyPDF', 'creationdate': \"D:20210316191726Z00'00'\", 'author': 'kpoll', 'moddate': \"D:20220515113647Z00'00'\", 'title': 'Microsoft Word - PURE Fraud and Cyber Defense Coverage Endorsement', 'source': 'docs\\\\form_1.pdf', 'total_pages': 17, 'page': 0, 'page_label': '1', 'start_index': 1632}, page_content='1. Attorney means any person who is duly licensed to practice law at the time and place the \\nlegal services are rendered. Attorney does not include any insured.  \\n2. Breach Notification Costs means: \\na. reasonable and necessary fees and costs of an attorney hired by an insured to determine \\nthe scope, cause and extent of an actual or suspected privacy breach or security \\nbreach; to determine whether an insured has a legal obligation to provide notification \\nof an actual or suspected privacy breach or security breach to affected individuals; \\nand/or to assist an insured in notifying affected individuals of a privacy breach or \\nsecurity breach; \\nb. reasonable and necessary fees and costs of a professional IT forensic investigation firm \\nor IT security expert hired by an insured to investigate and identify the source and \\nscope of a privacy breach or security breach; \\nc. reasonable and necessary printing costs and mailing and postage expenses to notify'),\n",
       " Document(metadata={'producer': 'macOS Versione 12.1 (Build 21C52) Quartz PDFContext, AppendMode 1.1', 'creator': 'PyPDF', 'creationdate': \"D:20210316191726Z00'00'\", 'author': 'kpoll', 'moddate': \"D:20220515113647Z00'00'\", 'title': 'Microsoft Word - PURE Fraud and Cyber Defense Coverage Endorsement', 'source': 'docs\\\\form_1.pdf', 'total_pages': 17, 'page': 0, 'page_label': '1', 'start_index': 2463}, page_content='scope of a privacy breach or security breach; \\nc. reasonable and necessary printing costs and mailing and postage expenses to notify \\naffected individuals of a privacy breach or security breach; and \\nd. reasonable and necessary expenses to provide support activity to individuals affected by \\na privacy breach or security breach, including the cost to provide a maximum of'),\n",
       " Document(metadata={'producer': 'macOS Versione 12.1 (Build 21C52) Quartz PDFContext, AppendMode 1.1', 'creator': 'PyPDF', 'creationdate': \"D:20210316191726Z00'00'\", 'author': 'kpoll', 'moddate': \"D:20220515113647Z00'00'\", 'title': 'Microsoft Word - PURE Fraud and Cyber Defense Coverage Endorsement', 'source': 'docs\\\\form_1.pdf', 'total_pages': 17, 'page': 1, 'page_label': '2', 'start_index': 0}, page_content='Fraud and Cyber Defense Coverage \\nPage 2  \\n \\n \\nPHVH-END-GEN-029 (03/2021)  Page 2  \\n \\ntwenty-four (24) months of credit, identity or healthcare record monitoring services, \\nfraud alert services, and credit or identity repair and restoration services.   \\n3. Business means any employment, trade, occupation, profession or enterprise intended to \\nrealize a benefit or financial gain, whether engaged in on a full-time, part-time, occasional \\nor temporary basis.   \\n4. Business Identity Theft means the theft or unauthorized, unlawful or fraudulent use, \\naccess or transfer of a means of identifying a business, with the intent to commit, or aid \\nor abet another to commit, a crime, including the theft or fraudulent use of a business \\nname, federal or state tax identification number, or other business records or \\ninformation to establish corporate credit accounts, secure loans or enter into contracts.  \\n5. Computing Device means a desktop, laptop or tablet computer or wi-fi router or other'),\n",
       " Document(metadata={'producer': 'macOS Versione 12.1 (Build 21C52) Quartz PDFContext, AppendMode 1.1', 'creator': 'PyPDF', 'creationdate': \"D:20210316191726Z00'00'\", 'author': 'kpoll', 'moddate': \"D:20220515113647Z00'00'\", 'title': 'Microsoft Word - PURE Fraud and Cyber Defense Coverage Endorsement', 'source': 'docs\\\\form_1.pdf', 'total_pages': 17, 'page': 1, 'page_label': '2', 'start_index': 813}, page_content='information to establish corporate credit accounts, secure loans or enter into contracts.  \\n5. Computing Device means a desktop, laptop or tablet computer or wi-fi router or other \\ninternet access point. Such device must be owned or leased by an insured and operated \\nunder an insured’s control. \\n6. Connected Home Device means any electronic device, other than a computing device, \\nthat connects to the internet or to other electronic devices. This includes, but is not limited \\nto, networked versions of any of the following: \\na. smart phones; \\nb. thermostats; \\nc. entertainment systems; \\nd. appliances; \\ne. smoke, fire and home security monitoring systems; or \\nf. cameras. \\nSuch device must be owned or leased by an insured and operated under an insured’s \\ncontrol. \\n7. Credit Card Fraud means the loss, theft or unauthorized and fraudulent use of an \\ninsured’s credit, debit or bank card or card number by a third party. Credit Card Fraud'),\n",
       " Document(metadata={'producer': 'macOS Versione 12.1 (Build 21C52) Quartz PDFContext, AppendMode 1.1', 'creator': 'PyPDF', 'creationdate': \"D:20210316191726Z00'00'\", 'author': 'kpoll', 'moddate': \"D:20220515113647Z00'00'\", 'title': 'Microsoft Word - PURE Fraud and Cyber Defense Coverage Endorsement', 'source': 'docs\\\\form_1.pdf', 'total_pages': 17, 'page': 1, 'page_label': '2', 'start_index': 1573}, page_content='control. \\n7. Credit Card Fraud means the loss, theft or unauthorized and fraudulent use of an \\ninsured’s credit, debit or bank card or card number by a third party. Credit Card Fraud \\ndoes not include the use of any insured’s credit, debit or bank card or card number by \\nanother insured without permission.  \\n8. Criminal Proceedings means any governmental action, indictment or investigation for the \\nenforcement of criminal laws, including offenses for which conviction could result in \\nimprisonment and/or criminal fine(s).  \\n9. Cyber Attack means any of the following malicious or unauthorized electronic attacks that \\nis initiated by a third party, directed at or enacted upon a computing device or connected \\nhome device, and designed to damage, destroy, corrupt, overload or impair the \\nfunctionality of the computing device or connected home device: \\na. unauthorized access or use, meaning the gaining of access to a computing device or'),\n",
       " Document(metadata={'producer': 'macOS Versione 12.1 (Build 21C52) Quartz PDFContext, AppendMode 1.1', 'creator': 'PyPDF', 'creationdate': \"D:20210316191726Z00'00'\", 'author': 'kpoll', 'moddate': \"D:20220515113647Z00'00'\", 'title': 'Microsoft Word - PURE Fraud and Cyber Defense Coverage Endorsement', 'source': 'docs\\\\form_1.pdf', 'total_pages': 17, 'page': 1, 'page_label': '2', 'start_index': 2367}, page_content='functionality of the computing device or connected home device: \\na. unauthorized access or use, meaning the gaining of access to a computing device or \\nconnected home device by an unauthorized third party, including any such \\nunauthorized access or use resulting from the theft of a password from an insured or \\nfrom a computing device or connected home device; or'),\n",
       " Document(metadata={'producer': 'macOS Versione 12.1 (Build 21C52) Quartz PDFContext, AppendMode 1.1', 'creator': 'PyPDF', 'creationdate': \"D:20210316191726Z00'00'\", 'author': 'kpoll', 'moddate': \"D:20220515113647Z00'00'\", 'title': 'Microsoft Word - PURE Fraud and Cyber Defense Coverage Endorsement', 'source': 'docs\\\\form_1.pdf', 'total_pages': 17, 'page': 2, 'page_label': '3', 'start_index': 0}, page_content='Fraud and Cyber Defense Coverage \\nPage 3  \\n \\n \\nPHVH-END-GEN-029 (03/2021)  Page 3  \\n \\nb. a malware attack, meaning damage to a computing device, connected home device \\nor an insured’s data arising from a virus. \\n10. Cyber Bullying means harassment or intimidation, including embarrassment, humiliation, \\ndefamation of character, slander, invasion of privacy or threats of violence, committed using \\na computer, telephone, mobile device or other electronic device. Cyber Bullying methods \\ninclude, but are not limited to, the use of texting, instant messaging, chat rooms, photos and \\nother content posted on social networking sites to harass and intimidate.  \\n11. Cyber Crime Event means: \\na. wire transfer fraud;  \\nb. a phishing attack directed at an insured, which fraudulently induces the insured to \\nwillingly transfer, pay or deliver money, securities or cryptocurrency to an unintended \\nparty through a traceable means of delivery, including, but not limited to, check, wire'),\n",
       " Document(metadata={'producer': 'macOS Versione 12.1 (Build 21C52) Quartz PDFContext, AppendMode 1.1', 'creator': 'PyPDF', 'creationdate': \"D:20210316191726Z00'00'\", 'author': 'kpoll', 'moddate': \"D:20220515113647Z00'00'\", 'title': 'Microsoft Word - PURE Fraud and Cyber Defense Coverage Endorsement', 'source': 'docs\\\\form_1.pdf', 'total_pages': 17, 'page': 2, 'page_label': '3', 'start_index': 804}, page_content='willingly transfer, pay or deliver money, securities or cryptocurrency to an unintended \\nparty through a traceable means of delivery, including, but not limited to, check, wire \\ntransfer or credit or debit card payment; however, cash is not a traceable method of \\ndelivery;  \\nc. the theft of money or securities from an insured bank account or an insured’s credit \\ncard as a result of a cyber attack; or \\nd. the theft of cryptocurrency from an insured’s cryptocurrency wallet as a result of a \\ncyber attack.  \\n12. Cyber Extortion Event means any of the following directed at or enacted upon a \\ncomputing device or connected home device: \\na. a demand for money or other consideration made by a third party based on a credible \\nthreat to damage, disable, deny access to or disseminate content from a computing \\ndevice or connected home device or an insured’s data; or \\nb. a demand for money or other consideration made by a third party based on an offer to'),\n",
       " Document(metadata={'producer': 'macOS Versione 12.1 (Build 21C52) Quartz PDFContext, AppendMode 1.1', 'creator': 'PyPDF', 'creationdate': \"D:20210316191726Z00'00'\", 'author': 'kpoll', 'moddate': \"D:20220515113647Z00'00'\", 'title': 'Microsoft Word - PURE Fraud and Cyber Defense Coverage Endorsement', 'source': 'docs\\\\form_1.pdf', 'total_pages': 17, 'page': 2, 'page_label': '3', 'start_index': 1613}, page_content='device or connected home device or an insured’s data; or \\nb. a demand for money or other consideration made by a third party based on an offer to \\nrestore access or functionality in connection with an attack on a computing device, \\nconnected home device or an insured’s data. \\n13. Cyber Extortion Expenses means reasonable and necessary costs and expenses, other \\nthan cyber extortion payments, that directly result from a cyber extortion event, \\nincluding the cost of a professional IT firm hired by an insured to determine the validity \\nand severity of a cyber extortion event and/or provide advice regarding how best to \\nrespond to a cyber extortion event. \\n14. Cyber Extortion Payments means any payment as directed by the cyber extortion event, \\nbut only when that payment is: \\na. incurred as a direct result of a cyber extortion event directed against an insured; and \\nb. approved in advance by us. However, we will pay cyber extortion payments that we'),\n",
       " Document(metadata={'producer': 'macOS Versione 12.1 (Build 21C52) Quartz PDFContext, AppendMode 1.1', 'creator': 'PyPDF', 'creationdate': \"D:20210316191726Z00'00'\", 'author': 'kpoll', 'moddate': \"D:20220515113647Z00'00'\", 'title': 'Microsoft Word - PURE Fraud and Cyber Defense Coverage Endorsement', 'source': 'docs\\\\form_1.pdf', 'total_pages': 17, 'page': 2, 'page_label': '3', 'start_index': 2396}, page_content='a. incurred as a direct result of a cyber extortion event directed against an insured; and \\nb. approved in advance by us. However, we will pay cyber extortion payments that we \\ndid not approve in advance if we determine that: \\n(1) it was not practical for the insured to obtain our prior approval; and \\n(2) if consulted at the time we would have approved the payment. \\n15. Damages means a monetary judgment, award or settlement that an insured is legally \\nobligated to pay because of a privacy and security claim. Damages does not include \\npunitive, liquidated, exemplary or multiplied damages; fines, penalties, taxes or sanctions;'),\n",
       " Document(metadata={'producer': 'macOS Versione 12.1 (Build 21C52) Quartz PDFContext, AppendMode 1.1', 'creator': 'PyPDF', 'creationdate': \"D:20210316191726Z00'00'\", 'author': 'kpoll', 'moddate': \"D:20220515113647Z00'00'\", 'title': 'Microsoft Word - PURE Fraud and Cyber Defense Coverage Endorsement', 'source': 'docs\\\\form_1.pdf', 'total_pages': 17, 'page': 3, 'page_label': '4', 'start_index': 0}, page_content='Fraud and Cyber Defense Coverage \\nPage 4  \\n \\n \\nPHVH-END-GEN-029 (03/2021)  Page 4  \\n \\nthe costs to comply with any judgment, award, court order or settlement; liability assumed \\nunder a contract; any amount an insured is not financially or legally obligated to pay; or any \\namounts deemed uninsurable under applicable law.  \\n16. Data Recovery Costs means the costs of a professional IT firm hired by an insured to \\nretrieve, replace or restore the insured’s electronic data that has been lost, damaged or \\ncorrupted in a cyber attack. If it is determined that an insured’s data cannot be retrieved, \\nreplaced or restored, we will reimburse only the actual and necessary data recovery costs \\nincurred up to such determination. Data Recovery Costs does not mean or include costs \\nto research, re-create or replace any of the following: \\na. software programs or operating systems that are obsolete or not commercially available; \\nor'),\n",
       " Document(metadata={'producer': 'macOS Versione 12.1 (Build 21C52) Quartz PDFContext, AppendMode 1.1', 'creator': 'PyPDF', 'creationdate': \"D:20210316191726Z00'00'\", 'author': 'kpoll', 'moddate': \"D:20220515113647Z00'00'\", 'title': 'Microsoft Word - PURE Fraud and Cyber Defense Coverage Endorsement', 'source': 'docs\\\\form_1.pdf', 'total_pages': 17, 'page': 3, 'page_label': '4', 'start_index': 778}, page_content='to research, re-create or replace any of the following: \\na. software programs or operating systems that are obsolete or not commercially available; \\nor \\nb. data that cannot reasonably be replaced, including, but not limited to, photographs, \\nmusic, movies or other media or recordings for which no back-up is available. \\n17. Defense Costs means reasonable and necessary attorney fees for legal services rendered, \\nand associated costs and expenses, incurred by an insured in the defense of a privacy and \\nsecurity claim. \\n18. Denial of Service Attack means an event caused by unauthorized or unexpected \\ninterference or a malicious attack which is intended by the perpetrator to overwhelm the \\ncapacity of a computing device or connected home device by sending an excessive \\nvolume of data to such computing device or connected home device in order to deny, \\nrestrict or hinder access to such computing device or connected home device.'),\n",
       " Document(metadata={'producer': 'macOS Versione 12.1 (Build 21C52) Quartz PDFContext, AppendMode 1.1', 'creator': 'PyPDF', 'creationdate': \"D:20210316191726Z00'00'\", 'author': 'kpoll', 'moddate': \"D:20220515113647Z00'00'\", 'title': 'Microsoft Word - PURE Fraud and Cyber Defense Coverage Endorsement', 'source': 'docs\\\\form_1.pdf', 'total_pages': 17, 'page': 3, 'page_label': '4', 'start_index': 1553}, page_content='volume of data to such computing device or connected home device in order to deny, \\nrestrict or hinder access to such computing device or connected home device.  \\n19. Endorsement Period means the period of coverage beginning on the Endorsement \\nEffective Date specified in Item 7 of the Schedule and ending on the earlier of the \\ntermination, cancellation or expiration date of the Policy; provided however, that the \\nendorsement period will not exceed a period of 12 months.  \\n20. Family Member means a person that is a resident of your household and is related to you \\nby blood, marriage, or domestic partnership registered under state law, or adoption.  Family \\nMember also includes other persons under the age of twenty-five (25) who are residents of \\nyour household and are in your care or the care of another family member. \\n21. Financial Fraud Loss means an insured’s direct loss of money, securities or \\ncryptocurrency which is fraudulently taken from the insured as a direct of credit card'),\n",
       " Document(metadata={'producer': 'macOS Versione 12.1 (Build 21C52) Quartz PDFContext, AppendMode 1.1', 'creator': 'PyPDF', 'creationdate': \"D:20210316191726Z00'00'\", 'author': 'kpoll', 'moddate': \"D:20220515113647Z00'00'\", 'title': 'Microsoft Word - PURE Fraud and Cyber Defense Coverage Endorsement', 'source': 'docs\\\\form_1.pdf', 'total_pages': 17, 'page': 3, 'page_label': '4', 'start_index': 2384}, page_content='21. Financial Fraud Loss means an insured’s direct loss of money, securities or \\ncryptocurrency which is fraudulently taken from the insured as a direct of credit card \\nfraud, forgery or a cyber crime event. However, Financial Fraud Loss does not mean \\nor include:  \\na. any amounts that have been reimbursed, or are reimbursable, to an insured by a credit \\ncard company, bank or other financial institution; or \\nb. any interest, time value or potential investment gain on the amount of money, \\nsecurities or cryptocurrency fraudulently taken from an insured. \\n22. Forgery means the alteration of an insured’s negotiable instrument, or the imitation of an \\ninsured on a negotiable instrument, with instructions to pay, including counterfeit items, \\nand with the intent to deceive.'),\n",
       " Document(metadata={'producer': 'macOS Versione 12.1 (Build 21C52) Quartz PDFContext, AppendMode 1.1', 'creator': 'PyPDF', 'creationdate': \"D:20210316191726Z00'00'\", 'author': 'kpoll', 'moddate': \"D:20220515113647Z00'00'\", 'title': 'Microsoft Word - PURE Fraud and Cyber Defense Coverage Endorsement', 'source': 'docs\\\\form_1.pdf', 'total_pages': 17, 'page': 4, 'page_label': '5', 'start_index': 0}, page_content='Fraud and Cyber Defense Coverage \\nPage 5  \\n \\n \\nPHVH-END-GEN-029 (03/2021)  Page 5  \\n \\n23. Identity Fraud means the act of knowingly transferring or using, without lawful authority, \\na means of identification of an insured, with the intent to commit, or to aid or abet another \\nto commit, an unlawful activity that constitutes a violation of federal law or a crime under \\nany applicable state or local law, including the fraudulent use of an insured’s personal \\nidentity to establish credit accounts, secure loans or enter into contracts, or the fraudulent \\nuse of an insured’s health insurance information to file false health insurance claims or to \\nseek medical treatment or prescription drugs. Identity Fraud also includes business \\nidentity theft.  \\n24. Insured means: \\na. you;  \\nb. any family member; and \\nc. a trust that is established for the ownership of the residence premises including any \\nnatural person named as executor, administrator or trustee of that trust, but only;'),\n",
       " Document(metadata={'producer': 'macOS Versione 12.1 (Build 21C52) Quartz PDFContext, AppendMode 1.1', 'creator': 'PyPDF', 'creationdate': \"D:20210316191726Z00'00'\", 'author': 'kpoll', 'moddate': \"D:20220515113647Z00'00'\", 'title': 'Microsoft Word - PURE Fraud and Cyber Defense Coverage Endorsement', 'source': 'docs\\\\form_1.pdf', 'total_pages': 17, 'page': 4, 'page_label': '5', 'start_index': 811}, page_content='c. a trust that is established for the ownership of the residence premises including any \\nnatural person named as executor, administrator or trustee of that trust, but only; \\n(1) if recognized under applicable state law as a legal entity with the capacity to sue or \\nbe sued in a court having jurisdiction; and \\n(2) while acting within the scope of their duties as executor, administrator or trustee of \\nyour trust. \\nAs used herein, “residence premises” has the same meaning as defined in the \\nDEFINITIONS section of the Policy. \\n25. Insured Bank Account means a personal account at a financial or banking institution \\nwhich is maintained by an insured in the insured’s name, or in the name of a legal entity \\nestablished by an insured or on an insured’s behalf to manage the insured’s personal \\nassets, from which the insured may request the transfer, payment or delivery of money or \\nsecurities. Insured Bank Account includes an insured’s personal trust, credit, brokerage'),\n",
       " Document(metadata={'producer': 'macOS Versione 12.1 (Build 21C52) Quartz PDFContext, AppendMode 1.1', 'creator': 'PyPDF', 'creationdate': \"D:20210316191726Z00'00'\", 'author': 'kpoll', 'moddate': \"D:20220515113647Z00'00'\", 'title': 'Microsoft Word - PURE Fraud and Cyber Defense Coverage Endorsement', 'source': 'docs\\\\form_1.pdf', 'total_pages': 17, 'page': 4, 'page_label': '5', 'start_index': 1607}, page_content='assets, from which the insured may request the transfer, payment or delivery of money or \\nsecurities. Insured Bank Account includes an insured’s personal trust, credit, brokerage \\nand investment accounts, but does not include any business account. \\n26. Insured Event means:  \\na. solely with respect to Data Recovery and System Restoration Coverage, a cyber attack;  \\nb. solely with respect to Cyber Extortion Coverage, a cyber extortion event; \\nc. solely with respect to Fraud and Cyber Crime Coverage, credit card fraud, forgery or \\na cyber crime event; and \\nd. solely with respect to Breach Notification Costs Coverage, a security breach or privacy \\nbreach.  \\n27. Loss means:  \\na. solely with respect to Data Recovery and System Restoration Coverage, data recovery \\ncosts and system restoration costs; \\nb. solely with respect to Cyber Extortion Coverage, cyber extortion expenses and cyber \\nextortion payments;  \\nc. solely with respect to Fraud and Cyber Crime Coverage, financial fraud loss; and'),\n",
       " Document(metadata={'producer': 'macOS Versione 12.1 (Build 21C52) Quartz PDFContext, AppendMode 1.1', 'creator': 'PyPDF', 'creationdate': \"D:20210316191726Z00'00'\", 'author': 'kpoll', 'moddate': \"D:20220515113647Z00'00'\", 'title': 'Microsoft Word - PURE Fraud and Cyber Defense Coverage Endorsement', 'source': 'docs\\\\form_1.pdf', 'total_pages': 17, 'page': 4, 'page_label': '5', 'start_index': 2412}, page_content='b. solely with respect to Cyber Extortion Coverage, cyber extortion expenses and cyber \\nextortion payments;  \\nc. solely with respect to Fraud and Cyber Crime Coverage, financial fraud loss; and \\nd. solely with respect to Breach Notification Costs Coverage, breach notification costs.'),\n",
       " Document(metadata={'producer': 'macOS Versione 12.1 (Build 21C52) Quartz PDFContext, AppendMode 1.1', 'creator': 'PyPDF', 'creationdate': \"D:20210316191726Z00'00'\", 'author': 'kpoll', 'moddate': \"D:20220515113647Z00'00'\", 'title': 'Microsoft Word - PURE Fraud and Cyber Defense Coverage Endorsement', 'source': 'docs\\\\form_1.pdf', 'total_pages': 17, 'page': 5, 'page_label': '6', 'start_index': 0}, page_content='Fraud and Cyber Defense Coverage \\nPage 6  \\n \\n \\nPHVH-END-GEN-029 (03/2021)  Page 6  \\n \\n28. Money means a medium of exchange in current use and authorized or adopted by a \\ndomestic or foreign government, including, but not limited to, currency, coins, bank notes, \\nbullion, travelers’ checks, registered checks and money orders held for sale to the public.  \\n29. Named Insured means any natural person listed as such on the Policy declaration page. \\n30. Other Property means any tangible property, other than money or securities, which has \\nintrinsic value. \\n31. Personally Identifiable Information means information that can be used to determine, \\ndistinguish or trace an individual’s identity, either alone or when combined with other \\npersonal or identifying information that is linked or linkable to a specific individual, \\nincluding, but not limited to, financial account numbers, security codes, personal \\nidentification numbers (PINs), credit and debit card numbers, medical or healthcare'),\n",
       " Document(metadata={'producer': 'macOS Versione 12.1 (Build 21C52) Quartz PDFContext, AppendMode 1.1', 'creator': 'PyPDF', 'creationdate': \"D:20210316191726Z00'00'\", 'author': 'kpoll', 'moddate': \"D:20220515113647Z00'00'\", 'title': 'Microsoft Word - PURE Fraud and Cyber Defense Coverage Endorsement', 'source': 'docs\\\\form_1.pdf', 'total_pages': 17, 'page': 5, 'page_label': '6', 'start_index': 826}, page_content='including, but not limited to, financial account numbers, security codes, personal \\nidentification numbers (PINs), credit and debit card numbers, medical or healthcare \\ninformation, social security numbers, driver’s license numbers, addresses, passwords, and \\nany other non-public information. \\n32. Phishing Attack means the use by a third party of fraudulent and intentionally deceptive \\ntelephone calls, emails, texts, instant messages or other electronic communications or \\nmalicious websites to impersonate a legitimate or trustworthy contact, organization or \\nperson to solicit private information, money or cryptocurrency.  \\n33. Privacy and Security Claim means a suit alleging: \\na. liability for a privacy breach;  \\nb. liability for the failure to prevent the transmission of a virus from a computing device \\nor connected home device to a third party’s device;  \\nc. liability for the failure to prevent or hinder participation by a computing device or'),\n",
       " Document(metadata={'producer': 'macOS Versione 12.1 (Build 21C52) Quartz PDFContext, AppendMode 1.1', 'creator': 'PyPDF', 'creationdate': \"D:20210316191726Z00'00'\", 'author': 'kpoll', 'moddate': \"D:20220515113647Z00'00'\", 'title': 'Microsoft Word - PURE Fraud and Cyber Defense Coverage Endorsement', 'source': 'docs\\\\form_1.pdf', 'total_pages': 17, 'page': 5, 'page_label': '6', 'start_index': 1642}, page_content='or connected home device to a third party’s device;  \\nc. liability for the failure to prevent or hinder participation by a computing device or \\nconnected home device in a denial of service attack directed against a third party’s \\ndevice;  \\nd. liability for the failure to prevent a security breach, which in turn results in a privacy \\nbreach; \\ne. liability for the failure to timely disclose a security breach or privacy breach affecting \\nprivate information; or \\nf. infliction of emotional distress or mental anguish, but only if directly resulting from a \\nperil described in a. through e. above.  \\nA privacy and security claim will be deemed to be first made against an insured when it \\nis first received by the insured. \\n34. Privacy Breach means:  \\na. the unauthorized collection, disclosure, use, access, destruction or modification of \\nprivate information; \\nb. the theft of private information, including the theft of private information stored on \\na computing device;'),\n",
       " Document(metadata={'producer': 'macOS Versione 12.1 (Build 21C52) Quartz PDFContext, AppendMode 1.1', 'creator': 'PyPDF', 'creationdate': \"D:20210316191726Z00'00'\", 'author': 'kpoll', 'moddate': \"D:20220515113647Z00'00'\", 'title': 'Microsoft Word - PURE Fraud and Cyber Defense Coverage Endorsement', 'source': 'docs\\\\form_1.pdf', 'total_pages': 17, 'page': 5, 'page_label': '6', 'start_index': 2483}, page_content='private information; \\nb. the theft of private information, including the theft of private information stored on \\na computing device; \\nc. an insured’s surrender of private information in a phishing attack; or \\nd. an infringement or violation of any rights to privacy directly resulting from a peril \\ndescribed in a. through c. above.'),\n",
       " Document(metadata={'producer': 'macOS Versione 12.1 (Build 21C52) Quartz PDFContext, AppendMode 1.1', 'creator': 'PyPDF', 'creationdate': \"D:20210316191726Z00'00'\", 'author': 'kpoll', 'moddate': \"D:20220515113647Z00'00'\", 'title': 'Microsoft Word - PURE Fraud and Cyber Defense Coverage Endorsement', 'source': 'docs\\\\form_1.pdf', 'total_pages': 17, 'page': 6, 'page_label': '7', 'start_index': 0}, page_content='Fraud and Cyber Defense Coverage \\nPage 7  \\n \\n \\nPHVH-END-GEN-029 (03/2021)  Page 7  \\n \\n35. Private Information means personally identifiable information of a third party that is \\nin an insured’s possession or entrusted to an insured solely because of the insured’s \\nactivities or responsibilities in connection with volunteer work for a non-profit organization \\nor other non-business related activity. Private Information does not mean or include \\ninformation of, or relating to, any business, including proprietary information.  \\n36. Securities means negotiable or non-negotiable instruments or contracts representing \\nmoney or other property. Securities does not include money or cryptocurrency. \\n37. Security breach means: \\na. a cyber attack, whether a specifically targeted attack or a generally distributed attack; \\nor \\nb. the theft or loss of a computing device containing private information.  \\n38. Suit means:'),\n",
       " Document(metadata={'producer': 'macOS Versione 12.1 (Build 21C52) Quartz PDFContext, AppendMode 1.1', 'creator': 'PyPDF', 'creationdate': \"D:20210316191726Z00'00'\", 'author': 'kpoll', 'moddate': \"D:20220515113647Z00'00'\", 'title': 'Microsoft Word - PURE Fraud and Cyber Defense Coverage Endorsement', 'source': 'docs\\\\form_1.pdf', 'total_pages': 17, 'page': 6, 'page_label': '7', 'start_index': 726}, page_content='a. a cyber attack, whether a specifically targeted attack or a generally distributed attack; \\nor \\nb. the theft or loss of a computing device containing private information.  \\n38. Suit means: \\na. the service of a civil lawsuit or the institution of arbitration or other alternative dispute \\nresolution proceedings against an insured seeking damages or non-monetary relief; or \\nb. a written demand made against an insured for damages or non-monetary relief. \\n39. System Restoration Costs means reasonable and necessary costs of a professional IT firm \\nhired by an insured to do the following in order to restore a computing device or \\nconnected home device to the level of functionality it had before the cyber attack: \\na. replace or reinstall computer software programs; \\nb. remove a virus; or \\nc. configure, or correct the configuration of, the computing device or connected home \\ndevice. \\nSystem Restoration Costs does not mean or include any of the following:'),\n",
       " Document(metadata={'producer': 'macOS Versione 12.1 (Build 21C52) Quartz PDFContext, AppendMode 1.1', 'creator': 'PyPDF', 'creationdate': \"D:20210316191726Z00'00'\", 'author': 'kpoll', 'moddate': \"D:20220515113647Z00'00'\", 'title': 'Microsoft Word - PURE Fraud and Cyber Defense Coverage Endorsement', 'source': 'docs\\\\form_1.pdf', 'total_pages': 17, 'page': 6, 'page_label': '7', 'start_index': 1497}, page_content='b. remove a virus; or \\nc. configure, or correct the configuration of, the computing device or connected home \\ndevice. \\nSystem Restoration Costs does not mean or include any of the following:  \\na. costs to increase the speed, capacity or utility of a computing device or connected \\nhome device; \\nb. an insured’s time or labor; or \\nc. any costs that exceed the replacement value of a computing device or connected \\nhome device, including applicable hardware and software. \\n40. Third Party means any entity, company, organization or person who does not qualify as an \\ninsured under this endorsement. \\n41. Unauthorized Trading means trading, which at the time of the trade, exceeds permitted \\nfinancial limits or is outside of permitted product lines. \\n42. Virus means malicious software intentionally designed to insert itself by a variety of forms \\ninto a computing device or connected home device to damage, destroy, corrupt,'),\n",
       " Document(metadata={'producer': 'macOS Versione 12.1 (Build 21C52) Quartz PDFContext, AppendMode 1.1', 'creator': 'PyPDF', 'creationdate': \"D:20210316191726Z00'00'\", 'author': 'kpoll', 'moddate': \"D:20220515113647Z00'00'\", 'title': 'Microsoft Word - PURE Fraud and Cyber Defense Coverage Endorsement', 'source': 'docs\\\\form_1.pdf', 'total_pages': 17, 'page': 6, 'page_label': '7', 'start_index': 2246}, page_content='42. Virus means malicious software intentionally designed to insert itself by a variety of forms \\ninto a computing device or connected home device to damage, destroy, corrupt, \\noverload or otherwise impair the functionality of such computing device or connected \\nhome device. Virus includes, but is not limited to, worms, Trojan horses, spyware, \\nkeyloggers, dishonest adware and malware.  \\n43. We, Us and Our mean the Company providing this Fraud and Cyber Defense Coverage.'),\n",
       " Document(metadata={'producer': 'macOS Versione 12.1 (Build 21C52) Quartz PDFContext, AppendMode 1.1', 'creator': 'PyPDF', 'creationdate': \"D:20210316191726Z00'00'\", 'author': 'kpoll', 'moddate': \"D:20220515113647Z00'00'\", 'title': 'Microsoft Word - PURE Fraud and Cyber Defense Coverage Endorsement', 'source': 'docs\\\\form_1.pdf', 'total_pages': 17, 'page': 7, 'page_label': '8', 'start_index': 0}, page_content='Fraud and Cyber Defense Coverage \\nPage 8  \\n \\n \\nPHVH-END-GEN-029 (03/2021)  Page 8  \\n \\n44. Wire Transfer Fraud means an intentional, unauthorized and fraudulent written, electronic \\nor telephonic instruction transmitted to a financial institution, directing such institution to \\ndebit, transfer, withdraw or disburse money or securities from an insured bank account, \\nwhich instruction purports to have been transmitted by an insured, but was in fact \\nfraudulently transmitted by a third party without the insured’s knowledge or consent. \\nWire Transfer Fraud does not mean or include fraud committed against business, \\ncommercial or non-consumer accounts.  \\n45. You or Your means the named insured.  \\nSECTION II – COVERAGE PART A. FIRST PARTY LOSS INSURING \\nAGREEMENTS AND EXCLUSIONS \\n1.  Data Recovery and System Restoration Coverage \\nSubject to the applicable Deductible and Limit of Insurance, we will reimburse an insured'),\n",
       " Document(metadata={'producer': 'macOS Versione 12.1 (Build 21C52) Quartz PDFContext, AppendMode 1.1', 'creator': 'PyPDF', 'creationdate': \"D:20210316191726Z00'00'\", 'author': 'kpoll', 'moddate': \"D:20220515113647Z00'00'\", 'title': 'Microsoft Word - PURE Fraud and Cyber Defense Coverage Endorsement', 'source': 'docs\\\\form_1.pdf', 'total_pages': 17, 'page': 7, 'page_label': '8', 'start_index': 757}, page_content='AGREEMENTS AND EXCLUSIONS \\n1.  Data Recovery and System Restoration Coverage \\nSubject to the applicable Deductible and Limit of Insurance, we will reimburse an insured \\nfor data recovery costs and system restoration costs directly resulting from a cyber \\nattack, but only if all of the following conditions are met: \\na. the insured first discovers the cyber attack during the endorsement period; \\nb. the insured or the insured’s representatives report the cyber attack to us during the \\nendorsement period, but no later than 60 days after the expiration or termination of \\nthe endorsement period; and \\nc. the insured provides clear evidence that the data recovery costs and system \\nrestoration costs directly result from a cyber attack. \\n2. Cyber Extortion Coverage \\nSubject to the applicable Deductible and Limit of Insurance, we will reimburse an insured \\nfor cyber extortion expenses and cyber extortion payments directly resulting from a'),\n",
       " Document(metadata={'producer': 'macOS Versione 12.1 (Build 21C52) Quartz PDFContext, AppendMode 1.1', 'creator': 'PyPDF', 'creationdate': \"D:20210316191726Z00'00'\", 'author': 'kpoll', 'moddate': \"D:20220515113647Z00'00'\", 'title': 'Microsoft Word - PURE Fraud and Cyber Defense Coverage Endorsement', 'source': 'docs\\\\form_1.pdf', 'total_pages': 17, 'page': 7, 'page_label': '8', 'start_index': 1524}, page_content='Subject to the applicable Deductible and Limit of Insurance, we will reimburse an insured \\nfor cyber extortion expenses and cyber extortion payments directly resulting from a \\ncyber extortion event, but only if all of the following conditions are met: \\na. the insured first discovers the cyber extortion event during the endorsement period;  \\nb. the insured or the insured’s representatives report the cyber extortion event to us \\nduring the endorsement period, but no later than 60 days after the expiration or \\ntermination of the endorsement period; and \\nc. the insured makes every reasonable effort to notify local law enforcement authorities \\nand the Federal Bureau of Investigation before surrendering any cyber extortion \\npayments in response to a cyber extortion event. \\n3. Fraud and Cyber Crime Coverage \\nSubject to the applicable Deductible and Limit of Insurance, we will reimburse an insured \\nfor financial fraud loss directly resulting from credit card fraud, forgery or a cyber crime'),\n",
       " Document(metadata={'producer': 'macOS Versione 12.1 (Build 21C52) Quartz PDFContext, AppendMode 1.1', 'creator': 'PyPDF', 'creationdate': \"D:20210316191726Z00'00'\", 'author': 'kpoll', 'moddate': \"D:20220515113647Z00'00'\", 'title': 'Microsoft Word - PURE Fraud and Cyber Defense Coverage Endorsement', 'source': 'docs\\\\form_1.pdf', 'total_pages': 17, 'page': 7, 'page_label': '8', 'start_index': 2337}, page_content='Subject to the applicable Deductible and Limit of Insurance, we will reimburse an insured \\nfor financial fraud loss directly resulting from credit card fraud, forgery or a cyber crime \\nevent, but only if all of the following conditions are met: \\na. the insured first discovers the credit card fraud, forgery or cyber crime event during \\nthe endorsement period;'),\n",
       " Document(metadata={'producer': 'macOS Versione 12.1 (Build 21C52) Quartz PDFContext, AppendMode 1.1', 'creator': 'PyPDF', 'creationdate': \"D:20210316191726Z00'00'\", 'author': 'kpoll', 'moddate': \"D:20220515113647Z00'00'\", 'title': 'Microsoft Word - PURE Fraud and Cyber Defense Coverage Endorsement', 'source': 'docs\\\\form_1.pdf', 'total_pages': 17, 'page': 8, 'page_label': '9', 'start_index': 0}, page_content='Fraud and Cyber Defense Coverage \\nPage 9  \\n \\n \\nPHVH-END-GEN-029 (03/2021)  Page 9  \\n \\nb. the insured or the insured’s representatives report the credit card fraud, forgery or \\ncyber crime event to us during the endorsement period, but no later than 60 days \\nafter the expiration or termination of the endorsement period; and \\nc. the insured provides written confirmation to us that the insured’s credit card company, \\nbank or other financial institution has refused to reverse or prevent a payment \\ntransaction or to indemnify or reimburse the insured for the financial fraud loss. \\n4. Breach Notification Costs Coverage \\nSubject to the applicable Deductible and Limit of Insurance, we will reimburse an insured \\nfor breach notification costs directly resulting from a security breach or privacy breach, \\nbut only if all of the following conditions are met: \\na. the insured first discovers the security breach or privacy breach during the \\nendorsement period; and'),\n",
       " Document(metadata={'producer': 'macOS Versione 12.1 (Build 21C52) Quartz PDFContext, AppendMode 1.1', 'creator': 'PyPDF', 'creationdate': \"D:20210316191726Z00'00'\", 'author': 'kpoll', 'moddate': \"D:20220515113647Z00'00'\", 'title': 'Microsoft Word - PURE Fraud and Cyber Defense Coverage Endorsement', 'source': 'docs\\\\form_1.pdf', 'total_pages': 17, 'page': 8, 'page_label': '9', 'start_index': 805}, page_content='but only if all of the following conditions are met: \\na. the insured first discovers the security breach or privacy breach during the \\nendorsement period; and \\nb. the insured or the insured’s representatives report the security breach or privacy \\nbreach to us during the endorsement period, but no later than 60 days after the \\nexpiration or termination of the endorsement period. \\n5. Free Choice of Attorneys, Professional IT Firms and Service Providers \\na. An insured has complete freedom of choice in the selection of attorneys, professional \\nIT firms and/or service providers to assist the insured in any insured event. However, \\nreimbursement of any costs, fees or charges of any attorney, professional IT firm or \\nservice provider will be limited to a maximum hourly rate of $400.  \\nb. An insured will have a direct relationship with any attorney, professional IT firm or \\nservice provider such insured hires, whether paid for, in whole or in part, under this'),\n",
       " Document(metadata={'producer': 'macOS Versione 12.1 (Build 21C52) Quartz PDFContext, AppendMode 1.1', 'creator': 'PyPDF', 'creationdate': \"D:20210316191726Z00'00'\", 'author': 'kpoll', 'moddate': \"D:20220515113647Z00'00'\", 'title': 'Microsoft Word - PURE Fraud and Cyber Defense Coverage Endorsement', 'source': 'docs\\\\form_1.pdf', 'total_pages': 17, 'page': 8, 'page_label': '9', 'start_index': 1594}, page_content='b. An insured will have a direct relationship with any attorney, professional IT firm or \\nservice provider such insured hires, whether paid for, in whole or in part, under this \\nendorsement. All attorneys and service providers work for the insured.  \\n6. Exclusions Applicable to Coverage Part A. First Party Loss \\nThe following exclusions apply to all insuring agreements of Coverage Part A. First Party \\nLoss of this endorsement. \\nWe do not cover: \\na. loss caused by or resulting from any fraudulent act or intentional violation of the law \\nby an insured, whether acting alone or in collusion with others; however, this exclusion \\ndoes not apply to any insured who did not commit, participate in or have prior \\nknowledge of any conduct to which this exclusion would otherwise apply. \\nb. any criminal proceedings. \\nc. any physical damage or injury to, or impairment, destruction or corruption of, any \\ntangible property, including the loss of use thereof.'),\n",
       " Document(metadata={'producer': 'macOS Versione 12.1 (Build 21C52) Quartz PDFContext, AppendMode 1.1', 'creator': 'PyPDF', 'creationdate': \"D:20210316191726Z00'00'\", 'author': 'kpoll', 'moddate': \"D:20220515113647Z00'00'\", 'title': 'Microsoft Word - PURE Fraud and Cyber Defense Coverage Endorsement', 'source': 'docs\\\\form_1.pdf', 'total_pages': 17, 'page': 8, 'page_label': '9', 'start_index': 2379}, page_content='b. any criminal proceedings. \\nc. any physical damage or injury to, or impairment, destruction or corruption of, any \\ntangible property, including the loss of use thereof. \\nd. any damage to a motor vehicle, watercraft, aircraft, or other vehicle. As used herein, \\n“watercraft” and “aircraft” have the same meaning as defined in the DEFINITIONS \\nsection of the Policy. \\ne. any amounts an insured is legally obligated to pay to a third party, including \\njudgements, award or settlements.'),\n",
       " Document(metadata={'producer': 'macOS Versione 12.1 (Build 21C52) Quartz PDFContext, AppendMode 1.1', 'creator': 'PyPDF', 'creationdate': \"D:20210316191726Z00'00'\", 'author': 'kpoll', 'moddate': \"D:20220515113647Z00'00'\", 'title': 'Microsoft Word - PURE Fraud and Cyber Defense Coverage Endorsement', 'source': 'docs\\\\form_1.pdf', 'total_pages': 17, 'page': 9, 'page_label': '10', 'start_index': 0}, page_content='Fraud and Cyber Defense Coverage \\nPage 10  \\n \\n \\nPHVH-END-GEN-029 (03/2021)  Page 10  \\n \\nf. any fines, penalties, taxes or sanctions imposed by law, or any matters deemed \\nuninsurable under applicable law. \\ng. loss arising from any activities of, or relating to, any business or incidental business \\nowned or operated by any insured, or any insured’s activities as a stockholder, \\nmanager, agent, partner, officer, director or paid employee or contractor of any for-\\nprofit or non-profit organization. As used herein, “incidental business” has the same \\nmeaning as defined in the DEFINITIONS section of the Policy. \\nh. except as specifically provided under Data Recovery and System Restoration Coverage, \\ncosts to research or correct any deficiency.  \\ni. any insured event first discovered by, or known to, any insured prior to the first Fraud \\nand Cyber Defense Coverage Endorsement issued by us to you.  \\nj. any amounts incurred by an insured in disputes with respect to this insurance, including'),\n",
       " Document(metadata={'producer': 'macOS Versione 12.1 (Build 21C52) Quartz PDFContext, AppendMode 1.1', 'creator': 'PyPDF', 'creationdate': \"D:20210316191726Z00'00'\", 'author': 'kpoll', 'moddate': \"D:20220515113647Z00'00'\", 'title': 'Microsoft Word - PURE Fraud and Cyber Defense Coverage Endorsement', 'source': 'docs\\\\form_1.pdf', 'total_pages': 17, 'page': 9, 'page_label': '10', 'start_index': 844}, page_content='and Cyber Defense Coverage Endorsement issued by us to you.  \\nj. any amounts incurred by an insured in disputes with respect to this insurance, including \\nquestions as to whether amounts are payable under this endorsement. \\nk. any costs to replace or repair any property, hardware, computing device or connected \\nhome device; however, we will pay to replace or repair any property, hardware, \\ncomputing device or connected home device if we determine that doing so reduces \\nthe amount of loss payable under this endorsement. \\nl. any amounts incurred by an insured to institute legal proceedings against any person or \\norganization.  \\nm. loss arising from a false report of an insured event made by an insured, whether acting \\nalone or in collusion with others. \\nn. loss caused by or resulting from fire, smoke, explosion, leakage, lightning, wind, water, \\nflood (including waves, tidal waves, or the rising of, breaking out of, or overflow of a'),\n",
       " Document(metadata={'producer': 'macOS Versione 12.1 (Build 21C52) Quartz PDFContext, AppendMode 1.1', 'creator': 'PyPDF', 'creationdate': \"D:20210316191726Z00'00'\", 'author': 'kpoll', 'moddate': \"D:20220515113647Z00'00'\", 'title': 'Microsoft Word - PURE Fraud and Cyber Defense Coverage Endorsement', 'source': 'docs\\\\form_1.pdf', 'total_pages': 17, 'page': 9, 'page_label': '10', 'start_index': 1606}, page_content='n. loss caused by or resulting from fire, smoke, explosion, leakage, lightning, wind, water, \\nflood (including waves, tidal waves, or the rising of, breaking out of, or overflow of a \\nbody of water, whether natural or manmade), earthquake, volcanic eruption, landslide, \\nhail, extreme weather, force majeure, or any other natural or physical event, however \\ncaused. \\no. loss caused by or resulting from the seizure, confiscation, commandeering, \\nnationalization, requisition or destruction of, or damage to, any computing device, \\nconnected home device, data, hardware or equipment by or under order of any \\ngovernment or public authority for whatever reason. \\np. loss caused by or resulting from a breach of, or liability assumed by an insured under, \\na written or oral contract or agreement. \\nq. loss arising from an insured’s civic or public activities, including an insured’s pursuit \\nor holding of any public office; however, this exclusion does not apply to a privacy \\nbreach.'),\n",
       " Document(metadata={'producer': 'macOS Versione 12.1 (Build 21C52) Quartz PDFContext, AppendMode 1.1', 'creator': 'PyPDF', 'creationdate': \"D:20210316191726Z00'00'\", 'author': 'kpoll', 'moddate': \"D:20220515113647Z00'00'\", 'title': 'Microsoft Word - PURE Fraud and Cyber Defense Coverage Endorsement', 'source': 'docs\\\\form_1.pdf', 'total_pages': 17, 'page': 9, 'page_label': '10', 'start_index': 2401}, page_content='q. loss arising from an insured’s civic or public activities, including an insured’s pursuit \\nor holding of any public office; however, this exclusion does not apply to a privacy \\nbreach. \\nr. loss arising from illness, substance abuse or death. \\ns. any costs to comply with any order, grant or agreement to provide non-monetary relief. \\nt. loss caused by or resulting from any business use of a credit, debit or bank card. \\nu. any identity fraud or cyber bullying. \\nv. loss caused by or resulting from any electrical or mechanical surge, failure or \\ninterruption, including electrical disturbance, spike, brownout or blackout; or a total,'),\n",
       " Document(metadata={'producer': 'macOS Versione 12.1 (Build 21C52) Quartz PDFContext, AppendMode 1.1', 'creator': 'PyPDF', 'creationdate': \"D:20210316191726Z00'00'\", 'author': 'kpoll', 'moddate': \"D:20220515113647Z00'00'\", 'title': 'Microsoft Word - PURE Fraud and Cyber Defense Coverage Endorsement', 'source': 'docs\\\\form_1.pdf', 'total_pages': 17, 'page': 10, 'page_label': '11', 'start_index': 0}, page_content='Fraud and Cyber Defense Coverage \\nPage 11  \\n \\n \\nPHVH-END-GEN-029 (03/2021)  Page 11  \\n \\npartial, temporary or intermittent outage, failure, disruption or reduction in supply of \\nany utility service or infrastructure, including, electricity, gas, water, telephone, cable, \\ninternet, satellite or telecommunications, or any failure, outage, disruption, degradation \\nor termination of any critical part of such service or infrastructure. \\nw. retainers or any advanced costs. \\nx. any amounts an insured has paid, or agree to pay, as part of any service or maintenance \\ncontract. \\ny. loss caused by or resulting from errors or shortcomings in legitimate electronic code or \\ncode installed on a computing device or connected home device during the \\nmanufacturing process. \\nz. loss caused by or resulting from a computing device or connected home device that \\nhas had its software altered from the original manufactured state (also known as \\n“jailbroken”).'),\n",
       " Document(metadata={'producer': 'macOS Versione 12.1 (Build 21C52) Quartz PDFContext, AppendMode 1.1', 'creator': 'PyPDF', 'creationdate': \"D:20210316191726Z00'00'\", 'author': 'kpoll', 'moddate': \"D:20220515113647Z00'00'\", 'title': 'Microsoft Word - PURE Fraud and Cyber Defense Coverage Endorsement', 'source': 'docs\\\\form_1.pdf', 'total_pages': 17, 'page': 10, 'page_label': '11', 'start_index': 767}, page_content='z. loss caused by or resulting from a computing device or connected home device that \\nhas had its software altered from the original manufactured state (also known as \\n“jailbroken”). \\naa. any amounts to retrieve, replace, recreate or restore any business records or business-\\nrelated data, including any such data or records that is stored on a computing device; \\nbb. income loss caused by or resulting from unauthorized trading. \\ncc. loss caused by or resulting from an outage, interruption, failure, suspension or \\ndegradation of service of a computer system owned, controlled, leased or operated by \\nan insured’s cryptocurrency wallet provider or any cryptocurrency or digital currency \\nexchange; the theft of cryptocurrency in a network attack against a computer system \\nowned, controlled, leased or operated by an insured’s cryptocurrency wallet provider \\nor any cryptocurrency or digital currency exchange, including a denial of service attack'),\n",
       " Document(metadata={'producer': 'macOS Versione 12.1 (Build 21C52) Quartz PDFContext, AppendMode 1.1', 'creator': 'PyPDF', 'creationdate': \"D:20210316191726Z00'00'\", 'author': 'kpoll', 'moddate': \"D:20220515113647Z00'00'\", 'title': 'Microsoft Word - PURE Fraud and Cyber Defense Coverage Endorsement', 'source': 'docs\\\\form_1.pdf', 'total_pages': 17, 'page': 10, 'page_label': '11', 'start_index': 1542}, page_content='owned, controlled, leased or operated by an insured’s cryptocurrency wallet provider \\nor any cryptocurrency or digital currency exchange, including a denial of service attack \\nor infection of such computer system by a virus; or the insolvency or bankruptcy of any \\ncryptocurrency wallet provider or cryptocurrency or digital currency exchange. \\ndd. any amounts that have been wholly or partially reversed by a credit card company or \\nfinancial institution. \\nee. loss caused by or resulting from the use of a credit, debit or bank card, card number or \\naccount number associated with a bank account, credit account, brokerage account, \\ninvestment account, digital currency account or other financial institution account: \\n(1) by a person who has ever received any authorization from an insured to use such \\ncard, card number or account number, unless such authorization was obtained \\nthrough a criminal deception of the insured; or'),\n",
       " Document(metadata={'producer': 'macOS Versione 12.1 (Build 21C52) Quartz PDFContext, AppendMode 1.1', 'creator': 'PyPDF', 'creationdate': \"D:20210316191726Z00'00'\", 'author': 'kpoll', 'moddate': \"D:20220515113647Z00'00'\", 'title': 'Microsoft Word - PURE Fraud and Cyber Defense Coverage Endorsement', 'source': 'docs\\\\form_1.pdf', 'total_pages': 17, 'page': 10, 'page_label': '11', 'start_index': 2348}, page_content='card, card number or account number, unless such authorization was obtained \\nthrough a criminal deception of the insured; or \\n(2) if an insured has not complied with all terms and conditions under which such \\ncard, card number or account number was issued. \\nff. indirect costs, such as lost time, lost wages or damaged reputation. \\ngg. any amounts paid or payable under Coverage Part B of this endorsement. \\nhh. any matter paid, or deemed payable, by us under any other insuring agreement or \\ncoverage section of the Policy.'),\n",
       " Document(metadata={'producer': 'macOS Versione 12.1 (Build 21C52) Quartz PDFContext, AppendMode 1.1', 'creator': 'PyPDF', 'creationdate': \"D:20210316191726Z00'00'\", 'author': 'kpoll', 'moddate': \"D:20220515113647Z00'00'\", 'title': 'Microsoft Word - PURE Fraud and Cyber Defense Coverage Endorsement', 'source': 'docs\\\\form_1.pdf', 'total_pages': 17, 'page': 11, 'page_label': '12', 'start_index': 0}, page_content='Fraud and Cyber Defense Coverage \\nPage 12  \\n \\n \\nPHVH-END-GEN-029 (03/2021)  Page 12  \\n \\nSECTION III – COVERAGE PART B. PRIVACY AND SECURITY CLAIMS \\nINSURING AGREEMENT AND EXCLUSIONS \\n1. Privacy and Security Claims Coverage \\nSubject to the applicable Deductible and Limit of Insurance, we will reimburse an insured \\nfor damages and reasonable and necessary defense costs that the insured becomes legally \\nobligated to pay as a result of a privacy and security claim, but only if all of the following \\nconditions are met: \\na. the privacy and security claim is first made against the insured during the \\nendorsement period;  \\nb. the insured or the insured’s representatives report the privacy and security claim to \\nus during the endorsement period, but no later than 60 days after expiration or \\ntermination of the endorsement period; and \\nc. the actual or alleged acts, events or incidents giving rise to the privacy and security'),\n",
       " Document(metadata={'producer': 'macOS Versione 12.1 (Build 21C52) Quartz PDFContext, AppendMode 1.1', 'creator': 'PyPDF', 'creationdate': \"D:20210316191726Z00'00'\", 'author': 'kpoll', 'moddate': \"D:20220515113647Z00'00'\", 'title': 'Microsoft Word - PURE Fraud and Cyber Defense Coverage Endorsement', 'source': 'docs\\\\form_1.pdf', 'total_pages': 17, 'page': 11, 'page_label': '12', 'start_index': 794}, page_content='termination of the endorsement period; and \\nc. the actual or alleged acts, events or incidents giving rise to the privacy and security \\nclaim first occur on or after the inception date of the first Fraud and Cyber Defense \\nCoverage endorsement issued by us to you.  \\n2. No Duty to Defend; Free Choice of Counsel \\na. We will have no duty to defend any privacy and security claim, but only to reimburse \\nan insured for defense costs and damages to which this endorsement applies. The \\nobligation to defend any privacy and security claim resides solely with an insured, \\nand an insured’s reasonable and good faith defense of any privacy and security claim \\nis a condition of coverage under Coverage Part B of this endorsement.  \\nb. We will reimburse an insured only for defense costs incurred for actual services \\nrendered and/or damages sustained against the insured in a privacy and security \\nclaim, up to the applicable Limit of Insurance. However, actual payment by an insured'),\n",
       " Document(metadata={'producer': 'macOS Versione 12.1 (Build 21C52) Quartz PDFContext, AppendMode 1.1', 'creator': 'PyPDF', 'creationdate': \"D:20210316191726Z00'00'\", 'author': 'kpoll', 'moddate': \"D:20220515113647Z00'00'\", 'title': 'Microsoft Word - PURE Fraud and Cyber Defense Coverage Endorsement', 'source': 'docs\\\\form_1.pdf', 'total_pages': 17, 'page': 11, 'page_label': '12', 'start_index': 1605}, page_content='rendered and/or damages sustained against the insured in a privacy and security \\nclaim, up to the applicable Limit of Insurance. However, actual payment by an insured \\nof defense costs or damages will not be a condition of reimbursement. \\nc. An insured has complete freedom of choice in the selection of an attorney to represent \\nthe insured in any privacy and security claim. However, reimbursement of defense \\ncosts will be limited to a maximum hourly attorney rate of $400. The insured will have \\na direct relationship with any attorney retained by the insured.  \\nd. There shall be no infringement upon the professional judgment of any attorney, and \\nno attorney providing legal services in respect of which defense costs are reimbursable \\nunder this endorsement shall be required to act in derogation of such attorney’s \\nprofessional responsibilities. \\n3. Exclusions Applicable to Coverage Part B. Privacy and Security Claims'),\n",
       " Document(metadata={'producer': 'macOS Versione 12.1 (Build 21C52) Quartz PDFContext, AppendMode 1.1', 'creator': 'PyPDF', 'creationdate': \"D:20210316191726Z00'00'\", 'author': 'kpoll', 'moddate': \"D:20220515113647Z00'00'\", 'title': 'Microsoft Word - PURE Fraud and Cyber Defense Coverage Endorsement', 'source': 'docs\\\\form_1.pdf', 'total_pages': 17, 'page': 11, 'page_label': '12', 'start_index': 2348}, page_content='under this endorsement shall be required to act in derogation of such attorney’s \\nprofessional responsibilities. \\n3. Exclusions Applicable to Coverage Part B. Privacy and Security Claims \\nThe following exclusions apply to Coverage Part B. Privacy and Security Claims of this \\nendorsement. \\nWe do not cover: \\na. any amounts incurred by an insured in disputes with respect to this insurance, including \\nquestions as to whether amounts are reimbursable under this endorsement.'),\n",
       " Document(metadata={'producer': 'macOS Versione 12.1 (Build 21C52) Quartz PDFContext, AppendMode 1.1', 'creator': 'PyPDF', 'creationdate': \"D:20210316191726Z00'00'\", 'author': 'kpoll', 'moddate': \"D:20220515113647Z00'00'\", 'title': 'Microsoft Word - PURE Fraud and Cyber Defense Coverage Endorsement', 'source': 'docs\\\\form_1.pdf', 'total_pages': 17, 'page': 12, 'page_label': '13', 'start_index': 0}, page_content='Fraud and Cyber Defense Coverage \\nPage 13  \\n \\n \\nPHVH-END-GEN-029 (03/2021)  Page 13  \\n \\nb. any amounts incurred by an insured to institute legal proceedings against any person or \\norganization. \\nc. any privacy and security claim based upon, arising from or involving any acts, events \\nor incidents which were known to any insured prior to the inception date of the first \\nFraud and Cyber Defense Coverage Endorsement issued by us to you. \\nd. any matter brought against an insured for physical damage or injury to, or impairment, \\ndestruction or corruption of, any tangible property, including the loss of use thereof. \\ne. any matter brought against an insured for physical injury, sickness, disease or death \\nsustained by any person, and where resulting from such physical injury only, mental \\nanguish, mental injury, shock, humiliation or emotional distress. \\nf. any privacy and security claim for, based upon, arising from or involving any breach'),\n",
       " Document(metadata={'producer': 'macOS Versione 12.1 (Build 21C52) Quartz PDFContext, AppendMode 1.1', 'creator': 'PyPDF', 'creationdate': \"D:20210316191726Z00'00'\", 'author': 'kpoll', 'moddate': \"D:20220515113647Z00'00'\", 'title': 'Microsoft Word - PURE Fraud and Cyber Defense Coverage Endorsement', 'source': 'docs\\\\form_1.pdf', 'total_pages': 17, 'page': 12, 'page_label': '13', 'start_index': 794}, page_content='anguish, mental injury, shock, humiliation or emotional distress. \\nf. any privacy and security claim for, based upon, arising from or involving any breach \\nof, or liability assumed by, an insured under a written or oral contract or agreement; \\nhowever, this exclusion does not apply to any liability an insured would have had in the \\nabsence of such contract or agreement and which would have been insured under \\nCoverage Part B of this endorsement. \\ng. any privacy and security claim based upon, arising from or involving any insured’s \\nactivities as a stockholder, owner, manager, agent, partner, officer, director or employee \\nof any business, organization, corporation or company. \\nh. any privacy and security claim based upon, arising from or involving an insured’s \\ncivic or public activities, including an insured’s pursuit or holding of any public office; \\nhowever, this exclusion does not apply to a privacy and security claim arising from a \\nprivacy breach.'),\n",
       " Document(metadata={'producer': 'macOS Versione 12.1 (Build 21C52) Quartz PDFContext, AppendMode 1.1', 'creator': 'PyPDF', 'creationdate': \"D:20210316191726Z00'00'\", 'author': 'kpoll', 'moddate': \"D:20220515113647Z00'00'\", 'title': 'Microsoft Word - PURE Fraud and Cyber Defense Coverage Endorsement', 'source': 'docs\\\\form_1.pdf', 'total_pages': 17, 'page': 12, 'page_label': '13', 'start_index': 1566}, page_content='civic or public activities, including an insured’s pursuit or holding of any public office; \\nhowever, this exclusion does not apply to a privacy and security claim arising from a \\nprivacy breach. \\ni. any privacy and security claim for, based upon, arising from or involving any \\nfraudulent act, intentional violation of law or intentional privacy breach committed by \\nan insured;  however, this exclusion does not apply to any insured who did not commit, \\nparticipate in or have prior knowledge of any conduct to which this exclusion would \\notherwise apply. \\nj. any costs to comply with any order, grant or agreement to provide non-monetary relief. \\nk. fines, penalties, taxes or sanctions, or any matters deemed uninsurable under applicable \\nlaw. \\nl. punitive, exemplary, liquidated, or multiplied damages; however, if a privacy and \\nsecurity claim is made against an insured seeking both compensatory and punitive or'),\n",
       " Document(metadata={'producer': 'macOS Versione 12.1 (Build 21C52) Quartz PDFContext, AppendMode 1.1', 'creator': 'PyPDF', 'creationdate': \"D:20210316191726Z00'00'\", 'author': 'kpoll', 'moddate': \"D:20220515113647Z00'00'\", 'title': 'Microsoft Word - PURE Fraud and Cyber Defense Coverage Endorsement', 'source': 'docs\\\\form_1.pdf', 'total_pages': 17, 'page': 12, 'page_label': '13', 'start_index': 2309}, page_content='law. \\nl. punitive, exemplary, liquidated, or multiplied damages; however, if a privacy and \\nsecurity claim is made against an insured seeking both compensatory and punitive or \\nexemplary damages, then we will reimburse defense costs incurred in such privacy \\nand security claim without liability for punitive or exemplary damages. \\nm. any privacy and security claim made by or on behalf of an insured against another \\ninsured. \\nn. criminal proceedings. \\no. retainers or any advanced costs. \\np. any amounts an insured has paid or agree to pay, as part of any service or maintenance \\ncontract. \\nq. any amounts paid or payable under Coverage Part A of this endorsement.'),\n",
       " Document(metadata={'producer': 'macOS Versione 12.1 (Build 21C52) Quartz PDFContext, AppendMode 1.1', 'creator': 'PyPDF', 'creationdate': \"D:20210316191726Z00'00'\", 'author': 'kpoll', 'moddate': \"D:20220515113647Z00'00'\", 'title': 'Microsoft Word - PURE Fraud and Cyber Defense Coverage Endorsement', 'source': 'docs\\\\form_1.pdf', 'total_pages': 17, 'page': 13, 'page_label': '14', 'start_index': 0}, page_content='Fraud and Cyber Defense Coverage \\nPage 14  \\n \\n \\nPHVH-END-GEN-029 (03/2021)  Page 14  \\n \\nr. any matter paid, or deemed payable, by us under any other insuring agreement or \\ncoverage section of the Policy. \\nSECTION IV –LIMITS OF INSURANCE AND DEDUCTIBLES  \\n1. Coverage Part A. First Party Loss Limits of Insurance and Deductible \\na. The Coverage Part A. First Party Loss Limits of Insurance shown in Item 1 of the \\nSchedule are the most we will reimburse under each insuring agreement of Coverage \\nPart A of this endorsement for loss arising from any one insured event first discovered \\nduring the endorsement period, and in the aggregate for all insured events first \\ndiscovered during the endorsement period, regardless of the number of insured \\nevents or insureds. If any Limit of Insurance shown in Item 1 of the Schedule is \\nexhausted, our obligations under the applicable insuring agreement will end.  \\nb. The Coverage Part A Aggregate Limit of Insurance shown in Item 2 of the Schedule is'),\n",
       " Document(metadata={'producer': 'macOS Versione 12.1 (Build 21C52) Quartz PDFContext, AppendMode 1.1', 'creator': 'PyPDF', 'creationdate': \"D:20210316191726Z00'00'\", 'author': 'kpoll', 'moddate': \"D:20220515113647Z00'00'\", 'title': 'Microsoft Word - PURE Fraud and Cyber Defense Coverage Endorsement', 'source': 'docs\\\\form_1.pdf', 'total_pages': 17, 'page': 13, 'page_label': '14', 'start_index': 828}, page_content='exhausted, our obligations under the applicable insuring agreement will end.  \\nb. The Coverage Part A Aggregate Limit of Insurance shown in Item 2 of the Schedule is \\nthe most we will reimburse under Coverage Part A of this endorsement for all insured \\nevents first discovered during the endorsement period, regardless of the number of \\ninsured events, insureds or insuring agreements of Coverage Part A. All loss paid \\nunder Coverage Part A of this endorsement will reduce and may completely exhaust the \\nCoverage Part A Aggregate Limit of Insurance shown in Item 2 of the Schedule.  \\nc. The Coverage Part A Deductible shown in Item 3 of the Schedule applies to any one \\ninsured event. If the amount of loss from any one insured event is less than or equal \\nto the Deductible, we will not reimburse an insured for that loss. If the amount of loss \\nresulting from any one insured event exceeds the Deductible, we will subtract the'),\n",
       " Document(metadata={'producer': 'macOS Versione 12.1 (Build 21C52) Quartz PDFContext, AppendMode 1.1', 'creator': 'PyPDF', 'creationdate': \"D:20210316191726Z00'00'\", 'author': 'kpoll', 'moddate': \"D:20220515113647Z00'00'\", 'title': 'Microsoft Word - PURE Fraud and Cyber Defense Coverage Endorsement', 'source': 'docs\\\\form_1.pdf', 'total_pages': 17, 'page': 13, 'page_label': '14', 'start_index': 1587}, page_content='to the Deductible, we will not reimburse an insured for that loss. If the amount of loss \\nresulting from any one insured event exceeds the Deductible, we will subtract the \\nDeductible from the amount of loss incurred, and we will reimburse an insured for the \\nremaining amount of such loss, up to the applicable Limit of Insurance.  \\n2. Coverage Part B. Privacy and Security Claims Limit of Insurance and Deductible \\na. The Coverage Part B. Privacy and Security Claims Limit of Insurance shown in Item 4 \\nof the Schedule is the most we will reimburse under Coverage Part B of this \\nendorsement for defense costs and/or damages arising from any one privacy and \\nsecurity claim first made during the endorsement period, and in the aggregate for all \\nprivacy and security claims first made during the endorsement period, regardless of \\nthe number of privacy and security claims, insureds or claimants. If the Limit of'),\n",
       " Document(metadata={'producer': 'macOS Versione 12.1 (Build 21C52) Quartz PDFContext, AppendMode 1.1', 'creator': 'PyPDF', 'creationdate': \"D:20210316191726Z00'00'\", 'author': 'kpoll', 'moddate': \"D:20220515113647Z00'00'\", 'title': 'Microsoft Word - PURE Fraud and Cyber Defense Coverage Endorsement', 'source': 'docs\\\\form_1.pdf', 'total_pages': 17, 'page': 13, 'page_label': '14', 'start_index': 2335}, page_content='privacy and security claims first made during the endorsement period, regardless of \\nthe number of privacy and security claims, insureds or claimants. If the Limit of \\nInsurance shown in Item 4 of the Schedule is exhausted, our obligations under Coverage \\nPart B of this endorsement will end. \\nb. The Coverage Part B Deductible shown in Item 5 of the Schedule applies to any one \\nprivacy and security claim. If the amount of defense costs and/or damages \\nresulting from any one privacy and security claim is less than or equal to the \\nDeductible, we will not reimburse an insured for those defense costs and/or \\ndamages. If the amount of defense costs and/or damages resulting from any one \\nprivacy and security claim exceeds the Deductible, we will subtract the Deductible \\nfrom the amount of defense costs and/or damages incurred, and we will reimburse \\nan insured for the remaining amount of such defense costs and/or damages, up to \\nthe applicable Limit of Insurance.'),\n",
       " Document(metadata={'producer': 'macOS Versione 12.1 (Build 21C52) Quartz PDFContext, AppendMode 1.1', 'creator': 'PyPDF', 'creationdate': \"D:20210316191726Z00'00'\", 'author': 'kpoll', 'moddate': \"D:20220515113647Z00'00'\", 'title': 'Microsoft Word - PURE Fraud and Cyber Defense Coverage Endorsement', 'source': 'docs\\\\form_1.pdf', 'total_pages': 17, 'page': 14, 'page_label': '15', 'start_index': 0}, page_content='Fraud and Cyber Defense Coverage \\nPage 15  \\n \\n \\nPHVH-END-GEN-029 (03/2021)  Page 15  \\n \\n3. Combined Aggregate Limit of Insurance \\nThe Combined Aggregate Limit of Insurance shown in Item 6 of the Schedule is the most \\nwe will reimburse under this endorsement for all loss under Coverage Part A and all \\ndefense costs and damages under Coverage Part B. If the Combined Aggregate Limit of \\nInsurance is paid, our obligations under this endorsement will end.  \\n4. Related Claims \\na. If one insured event causes loss in more than one endorsement period, all such loss \\nwill be subject to the Limits of Insurance of the endorsement period in effect when \\nthe insured event was first discovered by an insured.   \\nb. Loss resulting from a series of related, repeated or continuing insured events will be \\nconsidered one insured event, even if such series of insured events continue into a \\nsubsequent endorsement period. Such insured event will be deemed to have been'),\n",
       " Document(metadata={'producer': 'macOS Versione 12.1 (Build 21C52) Quartz PDFContext, AppendMode 1.1', 'creator': 'PyPDF', 'creationdate': \"D:20210316191726Z00'00'\", 'author': 'kpoll', 'moddate': \"D:20220515113647Z00'00'\", 'title': 'Microsoft Word - PURE Fraud and Cyber Defense Coverage Endorsement', 'source': 'docs\\\\form_1.pdf', 'total_pages': 17, 'page': 14, 'page_label': '15', 'start_index': 797}, page_content='considered one insured event, even if such series of insured events continue into a \\nsubsequent endorsement period. Such insured event will be deemed to have been \\ndiscovered by an insured on the date the first insured event in that series was first \\ndiscovered by an insured and will be deemed to have been reported to us on the date \\nthe first insured event in that series was reported to us.  \\nc. All privacy and security claims arising from the same event, incident, act or \\ncircumstance, or a series of related, repeated or continuing events, incidents, acts or \\ncircumstances, will be deemed to be a single privacy and security claim; will be \\ndeemed to have been first made against an insured on the date the earliest of such \\nprivacy and security claims was first made against an insured; and will be deemed to \\nhave been first reported to us on the date the earliest of such privacy and security \\nclaims was first reported to us in writing. Appeals and any post-trial proceedings or'),\n",
       " Document(metadata={'producer': 'macOS Versione 12.1 (Build 21C52) Quartz PDFContext, AppendMode 1.1', 'creator': 'PyPDF', 'creationdate': \"D:20210316191726Z00'00'\", 'author': 'kpoll', 'moddate': \"D:20220515113647Z00'00'\", 'title': 'Microsoft Word - PURE Fraud and Cyber Defense Coverage Endorsement', 'source': 'docs\\\\form_1.pdf', 'total_pages': 17, 'page': 14, 'page_label': '15', 'start_index': 1617}, page_content='have been first reported to us on the date the earliest of such privacy and security \\nclaims was first reported to us in writing. Appeals and any post-trial proceedings or \\nconsolidated proceedings approved by us will be part of the original privacy and \\nsecurity claim.  \\nd. If a privacy breach or security breach under Coverage Part A results in a privacy and \\nsecurity claim under Coverage Part B, such matters will be deemed to be related, even \\nif the privacy and security claim is made against an insured in a subsequent \\nendorsement period. Such privacy and security claim will be subject to the Limits \\nof Insurance of the endorsement period in effect when the privacy breach or \\nsecurity breach was first discovered by an insured.   \\n5. Non-Stacking of Limits \\nIf an insured event or privacy and security claim is covered, in whole or in part, under \\nthis endorsement and any Fraud and Cyber Defense Coverage Endorsement attaching to'),\n",
       " Document(metadata={'producer': 'macOS Versione 12.1 (Build 21C52) Quartz PDFContext, AppendMode 1.1', 'creator': 'PyPDF', 'creationdate': \"D:20210316191726Z00'00'\", 'author': 'kpoll', 'moddate': \"D:20220515113647Z00'00'\", 'title': 'Microsoft Word - PURE Fraud and Cyber Defense Coverage Endorsement', 'source': 'docs\\\\form_1.pdf', 'total_pages': 17, 'page': 14, 'page_label': '15', 'start_index': 2387}, page_content='If an insured event or privacy and security claim is covered, in whole or in part, under \\nthis endorsement and any Fraud and Cyber Defense Coverage Endorsement attaching to \\nanother insurance policy issued by us, then the amount we will be obligated to reimburse \\nwith respect to such insured event or privacy and security claim will not exceed the \\nsingle largest applicable Limit of Insurance under any such Fraud and Cyber Defense \\nCoverage Endorsement. Such largest applicable Limit of Insurance will apply only once to \\nsuch insured event or privacy and security claim. The applicable Deductible under each \\nFraud and Cyber Defense Coverage Endorsement will be applied to the portion of the \\ninsured event or privacy and security claim that is allocated to the respective insured.'),\n",
       " Document(metadata={'producer': 'macOS Versione 12.1 (Build 21C52) Quartz PDFContext, AppendMode 1.1', 'creator': 'PyPDF', 'creationdate': \"D:20210316191726Z00'00'\", 'author': 'kpoll', 'moddate': \"D:20220515113647Z00'00'\", 'title': 'Microsoft Word - PURE Fraud and Cyber Defense Coverage Endorsement', 'source': 'docs\\\\form_1.pdf', 'total_pages': 17, 'page': 15, 'page_label': '16', 'start_index': 0}, page_content='Fraud and Cyber Defense Coverage \\nPage 16  \\n \\n \\nPHVH-END-GEN-029 (03/2021)  Page 16  \\n \\nSECTION V – CONDITIONS  \\nThe following conditions apply only to this endorsement. \\n1. Duties in the Event of an Insured Event or Privacy and Security Claim \\na. The insured must notify us of an insured event or privacy and security claim during \\nthe endorsement period, but no later than 60 days after expiration or termination of \\nthe endorsement period. \\nb. The insured must notify law enforcement authorities of any insured event as soon as \\npossible.  \\nc. The insured must immediately send us copies of any demands, notices, summonses or \\nlegal papers that an insured receives in a connection with a privacy and security \\nclaim. \\nd. In the event of credit card fraud, the insured must notify the issuing credit card \\ncompany or bank of the facts and circumstances surrounding such credit card fraud \\nas soon as possible.  \\ne. The insured must submit to us any supporting receipts, bills, records or other'),\n",
       " Document(metadata={'producer': 'macOS Versione 12.1 (Build 21C52) Quartz PDFContext, AppendMode 1.1', 'creator': 'PyPDF', 'creationdate': \"D:20210316191726Z00'00'\", 'author': 'kpoll', 'moddate': \"D:20220515113647Z00'00'\", 'title': 'Microsoft Word - PURE Fraud and Cyber Defense Coverage Endorsement', 'source': 'docs\\\\form_1.pdf', 'total_pages': 17, 'page': 15, 'page_label': '16', 'start_index': 808}, page_content='company or bank of the facts and circumstances surrounding such credit card fraud \\nas soon as possible.  \\ne. The insured must submit to us any supporting receipts, bills, records or other \\ndocuments within 90 days of our request. We may also request a signed and notarized \\ndescription of any privacy and security claim, insured event or proof of loss. \\nf. The insured must cooperate with us fully and authorize us to obtain records and other \\ninformation. \\n2. Confidentiality \\nAs respects Cyber Extortion Coverage, all insureds must make every reasonable effort not \\nto divulge the existence of this coverage. \\n3. Due Diligence  \\nAll insureds agree to use due diligence to prevent and mitigate costs covered under this \\nendorsement. This includes, but is not limited to, complying with reasonable and widely-\\npracticed steps for: \\na. providing and maintaining appropriate system and data security; and \\nb. maintaining and updating at appropriate intervals backups of electronic data.'),\n",
       " Document(metadata={'producer': 'macOS Versione 12.1 (Build 21C52) Quartz PDFContext, AppendMode 1.1', 'creator': 'PyPDF', 'creationdate': \"D:20210316191726Z00'00'\", 'author': 'kpoll', 'moddate': \"D:20220515113647Z00'00'\", 'title': 'Microsoft Word - PURE Fraud and Cyber Defense Coverage Endorsement', 'source': 'docs\\\\form_1.pdf', 'total_pages': 17, 'page': 15, 'page_label': '16', 'start_index': 1618}, page_content='practiced steps for: \\na. providing and maintaining appropriate system and data security; and \\nb. maintaining and updating at appropriate intervals backups of electronic data. \\n4. Legal Advice \\nWe are not any insured’s legal advisor. Our determination of what is or is not insured \\nunder this endorsement does not represent advice or counsel from us about what an \\ninsured should or should not do. \\n5. Other Insurance \\nThe coverage provided by this endorsement is excess insurance over any other valid and \\ncollectible insurance available to an insured, including any self-insured retention or \\ndeductible portion thereof, unless such insurance specifically applies as excess insurance \\nover the insurance provided under this endorsement.'),\n",
       " Document(metadata={'producer': 'macOS Versione 12.1 (Build 21C52) Quartz PDFContext, AppendMode 1.1', 'creator': 'PyPDF', 'creationdate': \"D:20210316191726Z00'00'\", 'author': 'kpoll', 'moddate': \"D:20220515113647Z00'00'\", 'title': 'Microsoft Word - PURE Fraud and Cyber Defense Coverage Endorsement', 'source': 'docs\\\\form_1.pdf', 'total_pages': 17, 'page': 16, 'page_label': '17', 'start_index': 0}, page_content='Fraud and Cyber Defense Coverage \\nPage 17  \\n \\n \\nPHVH-END-GEN-029 (03/2021)  Page 17  \\n \\n6. Bankruptcy \\nAn insured’s bankruptcy or insolvency will not relieve us of our obligations under this \\nendorsement. \\n7. Office of Foreign Assets Control \\nPayment under this endorsement will only be made in full compliance with all United States \\nof America economic or trade sanctions, laws or regulations, including, but not limited to, \\nsanctions, laws and regulations administered and enforced by the U.S. Treasury \\nDepartment’s Office of Foreign Assets Control (“OFAC”). \\nThis endorsement is issued as part of Policy [XXXXXXX]. Except as it expressly states, it does \\nnot (i) modify any of the terms and provisions of the Policy, (ii) modify any prior endorsements, \\n(iii) extend the Policy Expiration Date, or (iv) increase the Amount of Insurance. To the extent \\na provision of the Policy or a previous endorsement is inconsistent with an express provision \\nof this endorsement, this endorsement controls.')]"
      ]
     },
     "execution_count": 74,
     "metadata": {},
     "output_type": "execute_result"
    }
   ],
   "source": [
    "all_splits"
   ]
  },
  {
   "cell_type": "code",
   "execution_count": 63,
   "id": "d98576ee",
   "metadata": {},
   "outputs": [],
   "source": [
    "_ = vector_store.add_documents(documents=all_splits)"
   ]
  },
  {
   "cell_type": "code",
   "execution_count": 66,
   "id": "f6b6faaf",
   "metadata": {},
   "outputs": [],
   "source": [
    "prompt = hub.pull('rlm/rag-prompt')"
   ]
  },
  {
   "cell_type": "code",
   "execution_count": 67,
   "id": "4fda93d5",
   "metadata": {},
   "outputs": [
    {
     "data": {
      "text/plain": [
       "ChatPromptTemplate(input_variables=['context', 'question'], input_types={}, partial_variables={}, metadata={'lc_hub_owner': 'rlm', 'lc_hub_repo': 'rag-prompt', 'lc_hub_commit_hash': '50442af133e61576e74536c6556cefe1fac147cad032f4377b60c436e6cdcb6e'}, messages=[HumanMessagePromptTemplate(prompt=PromptTemplate(input_variables=['context', 'question'], input_types={}, partial_variables={}, template=\"You are an assistant for question-answering tasks. Use the following pieces of retrieved context to answer the question. If you don't know the answer, just say that you don't know. Use three sentences maximum and keep the answer concise.\\nQuestion: {question} \\nContext: {context} \\nAnswer:\"), additional_kwargs={})])"
      ]
     },
     "execution_count": 67,
     "metadata": {},
     "output_type": "execute_result"
    }
   ],
   "source": [
    "prompt"
   ]
  },
  {
   "cell_type": "code",
   "execution_count": 68,
   "id": "1a8dc9e9",
   "metadata": {},
   "outputs": [
    {
     "name": "stdout",
     "output_type": "stream",
     "text": [
      "You are an assistant for question-answering tasks. Use the following pieces of retrieved context to answer the question. If you don't know the answer, just say that you don't know. Use three sentences maximum and keep the answer concise.\n",
      "Question: {question} \n",
      "Context: {context} \n",
      "Answer:\n"
     ]
    }
   ],
   "source": [
    "print(prompt.messages[0].prompt.template)"
   ]
  },
  {
   "cell_type": "code",
   "execution_count": 69,
   "id": "cb547769",
   "metadata": {},
   "outputs": [],
   "source": [
    "class State(TypedDict):\n",
    "    question: str\n",
    "    context: List[Document]\n",
    "    answer: str"
   ]
  },
  {
   "cell_type": "code",
   "execution_count": 70,
   "id": "cd2ea031",
   "metadata": {},
   "outputs": [],
   "source": [
    "from langchain.chat_models import init_chat_model\n",
    "\n",
    "llm = init_chat_model(\"gpt-4o-mini\", model_provider=\"openai\")"
   ]
  },
  {
   "cell_type": "code",
   "execution_count": 71,
   "id": "a64f8fda",
   "metadata": {},
   "outputs": [],
   "source": [
    "from langgraph.graph import START, StateGraph"
   ]
  },
  {
   "cell_type": "code",
   "execution_count": 72,
   "id": "12c51c03",
   "metadata": {},
   "outputs": [],
   "source": [
    "def retrieve(state: State):\n",
    "    retrieved_docs = vector_store.similarity_search(state[\"question\"])\n",
    "    return {\"context\": retrieved_docs}\n",
    "\n",
    "\n",
    "def generate(state: State):\n",
    "    docs_content = \"\\n\\n\".join(doc.page_content for doc in state[\"context\"])\n",
    "    messages = prompt.invoke({\"question\": state[\"question\"], \"context\": docs_content})\n",
    "    response = llm.invoke(messages)\n",
    "    return {\"answer\": response.content}\n",
    "\n",
    "\n",
    "# Compile application and test\n",
    "graph_builder = StateGraph(State).add_sequence([retrieve, generate])\n",
    "graph_builder.add_edge(START, \"retrieve\")\n",
    "graph = graph_builder.compile()\n",
    "    "
   ]
  },
  {
   "cell_type": "code",
   "execution_count": null,
   "id": "b24d32fa",
   "metadata": {},
   "outputs": [
    {
     "data": {
      "text/plain": [
       "{'question': 'Is Cyber Extortion Coverage considered as Inclusions or Exclusion?',\n",
       " 'context': [Document(id='9adc2750-8ddc-4c2e-9863-b3f26c923f44', metadata={'producer': 'macOS Versione 12.1 (Build 21C52) Quartz PDFContext, AppendMode 1.1', 'creator': 'PyPDF', 'creationdate': \"D:20210316191726Z00'00'\", 'author': 'kpoll', 'moddate': \"D:20220515113647Z00'00'\", 'title': 'Microsoft Word - PURE Fraud and Cyber Defense Coverage Endorsement', 'source': 'docs\\\\form_1.pdf', 'total_pages': 17, 'page': 7, 'page_label': '8', 'start_index': 757}, page_content='AGREEMENTS AND EXCLUSIONS \\n1.  Data Recovery and System Restoration Coverage \\nSubject to the applicable Deductible and Limit of Insurance, we will reimburse an insured \\nfor data recovery costs and system restoration costs directly resulting from a cyber \\nattack, but only if all of the following conditions are met: \\na. the insured first discovers the cyber attack during the endorsement period; \\nb. the insured or the insured’s representatives report the cyber attack to us during the \\nendorsement period, but no later than 60 days after the expiration or termination of \\nthe endorsement period; and \\nc. the insured provides clear evidence that the data recovery costs and system \\nrestoration costs directly result from a cyber attack. \\n2. Cyber Extortion Coverage \\nSubject to the applicable Deductible and Limit of Insurance, we will reimburse an insured \\nfor cyber extortion expenses and cyber extortion payments directly resulting from a'),\n",
       "  Document(id='e2266020-8fbc-4c09-835b-fa32ca9030d9', metadata={'producer': 'macOS Versione 12.1 (Build 21C52) Quartz PDFContext, AppendMode 1.1', 'creator': 'PyPDF', 'creationdate': \"D:20210316191726Z00'00'\", 'author': 'kpoll', 'moddate': \"D:20220515113647Z00'00'\", 'title': 'Microsoft Word - PURE Fraud and Cyber Defense Coverage Endorsement', 'source': 'docs\\\\form_1.pdf', 'total_pages': 17, 'page': 7, 'page_label': '8', 'start_index': 1524}, page_content='Subject to the applicable Deductible and Limit of Insurance, we will reimburse an insured \\nfor cyber extortion expenses and cyber extortion payments directly resulting from a \\ncyber extortion event, but only if all of the following conditions are met: \\na. the insured first discovers the cyber extortion event during the endorsement period;  \\nb. the insured or the insured’s representatives report the cyber extortion event to us \\nduring the endorsement period, but no later than 60 days after the expiration or \\ntermination of the endorsement period; and \\nc. the insured makes every reasonable effort to notify local law enforcement authorities \\nand the Federal Bureau of Investigation before surrendering any cyber extortion \\npayments in response to a cyber extortion event. \\n3. Fraud and Cyber Crime Coverage \\nSubject to the applicable Deductible and Limit of Insurance, we will reimburse an insured \\nfor financial fraud loss directly resulting from credit card fraud, forgery or a cyber crime'),\n",
       "  Document(id='a621dad2-ad05-40fa-8a5f-9f6a61987b99', metadata={'producer': 'macOS Versione 12.1 (Build 21C52) Quartz PDFContext, AppendMode 1.1', 'creator': 'PyPDF', 'creationdate': \"D:20210316191726Z00'00'\", 'author': 'kpoll', 'moddate': \"D:20220515113647Z00'00'\", 'title': 'Microsoft Word - PURE Fraud and Cyber Defense Coverage Endorsement', 'source': 'docs\\\\form_1.pdf', 'total_pages': 17, 'page': 2, 'page_label': '3', 'start_index': 1613}, page_content='device or connected home device or an insured’s data; or \\nb. a demand for money or other consideration made by a third party based on an offer to \\nrestore access or functionality in connection with an attack on a computing device, \\nconnected home device or an insured’s data. \\n13. Cyber Extortion Expenses means reasonable and necessary costs and expenses, other \\nthan cyber extortion payments, that directly result from a cyber extortion event, \\nincluding the cost of a professional IT firm hired by an insured to determine the validity \\nand severity of a cyber extortion event and/or provide advice regarding how best to \\nrespond to a cyber extortion event. \\n14. Cyber Extortion Payments means any payment as directed by the cyber extortion event, \\nbut only when that payment is: \\na. incurred as a direct result of a cyber extortion event directed against an insured; and \\nb. approved in advance by us. However, we will pay cyber extortion payments that we'),\n",
       "  Document(id='52582d7b-d1a0-46d1-99ac-1c5509227bf8', metadata={'producer': 'macOS Versione 12.1 (Build 21C52) Quartz PDFContext, AppendMode 1.1', 'creator': 'PyPDF', 'creationdate': \"D:20210316191726Z00'00'\", 'author': 'kpoll', 'moddate': \"D:20220515113647Z00'00'\", 'title': 'Microsoft Word - PURE Fraud and Cyber Defense Coverage Endorsement', 'source': 'docs\\\\form_1.pdf', 'total_pages': 17, 'page': 2, 'page_label': '3', 'start_index': 804}, page_content='willingly transfer, pay or deliver money, securities or cryptocurrency to an unintended \\nparty through a traceable means of delivery, including, but not limited to, check, wire \\ntransfer or credit or debit card payment; however, cash is not a traceable method of \\ndelivery;  \\nc. the theft of money or securities from an insured bank account or an insured’s credit \\ncard as a result of a cyber attack; or \\nd. the theft of cryptocurrency from an insured’s cryptocurrency wallet as a result of a \\ncyber attack.  \\n12. Cyber Extortion Event means any of the following directed at or enacted upon a \\ncomputing device or connected home device: \\na. a demand for money or other consideration made by a third party based on a credible \\nthreat to damage, disable, deny access to or disseminate content from a computing \\ndevice or connected home device or an insured’s data; or \\nb. a demand for money or other consideration made by a third party based on an offer to')],\n",
       " 'answer': \"Cyber Extortion Coverage is considered an inclusion, as it provides reimbursement for cyber extortion expenses and payments directly resulting from a cyber extortion event. It includes specific conditions that must be met for coverage to apply. This indicates that it is part of the insured's protections rather than being excluded.\"}"
      ]
     },
     "execution_count": 73,
     "metadata": {},
     "output_type": "execute_result"
    }
   ],
   "source": [
    "graph.invoke({'question':\"Is Cyber Extortion Coverage considered as Inclusions or Exclusion?\"})"
   ]
  }
 ],
 "metadata": {
  "kernelspec": {
   "display_name": "mlp",
   "language": "python",
   "name": "python3"
  },
  "language_info": {
   "codemirror_mode": {
    "name": "ipython",
    "version": 3
   },
   "file_extension": ".py",
   "mimetype": "text/x-python",
   "name": "python",
   "nbconvert_exporter": "python",
   "pygments_lexer": "ipython3",
   "version": "3.11.5"
  }
 },
 "nbformat": 4,
 "nbformat_minor": 5
}
